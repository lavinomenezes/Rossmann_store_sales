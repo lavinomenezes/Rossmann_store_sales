{
 "cells": [
  {
   "cell_type": "markdown",
   "metadata": {},
   "source": [
    "# imports"
   ]
  },
  {
   "cell_type": "code",
   "execution_count": 1,
   "metadata": {
    "ExecuteTime": {
     "end_time": "2022-08-15T21:10:12.711934Z",
     "start_time": "2022-08-15T21:10:07.597581Z"
    }
   },
   "outputs": [],
   "source": [
    "import pandas as pd\n",
    "import numpy as np\n",
    "import math\n",
    "import seaborn as sns\n",
    "import datetime\n",
    "import xgboost as xgb\n",
    "import random\n",
    "import warnings\n",
    "import pickle\n",
    "from matplotlib import pyplot as plt\n",
    "from IPython.core.display import HTML\n",
    "from IPython.display import Image\n",
    "from sklearn.ensemble import RandomForestRegressor\n",
    "from sklearn.linear_model import LinearRegression, Lasso\n",
    "from sklearn.metrics import mean_absolute_error, mean_absolute_percentage_error, mean_squared_error"
   ]
  },
  {
   "cell_type": "markdown",
   "metadata": {},
   "source": [
    "## helper functions"
   ]
  },
  {
   "cell_type": "code",
   "execution_count": 36,
   "metadata": {
    "ExecuteTime": {
     "end_time": "2022-08-15T21:29:04.229813Z",
     "start_time": "2022-08-15T21:29:04.193237Z"
    }
   },
   "outputs": [
    {
     "name": "stdout",
     "output_type": "stream",
     "text": [
      "Populating the interactive namespace from numpy and matplotlib\n"
     ]
    },
    {
     "name": "stderr",
     "output_type": "stream",
     "text": [
      "C:\\Users\\Lavin\\anaconda3\\lib\\site-packages\\IPython\\core\\magics\\pylab.py:159: UserWarning: pylab import has clobbered these variables: ['random']\n",
      "`%matplotlib` prevents importing * from pylab and numpy\n",
      "  warn(\"pylab import has clobbered these variables: %s\"  % clobbered +\n"
     ]
    },
    {
     "data": {
      "text/html": [
       "<style>.container { width:100% !important; }</style>"
      ],
      "text/plain": [
       "<IPython.core.display.HTML object>"
      ]
     },
     "metadata": {},
     "output_type": "display_data"
    }
   ],
   "source": [
    "def jupyter_settings():\n",
    "    %matplotlib inline\n",
    "    %pylab inline\n",
    "    plt.style.use( 'bmh' )\n",
    "    plt.rcParams['figure.figsize'] = [25, 12]\n",
    "    plt.rcParams['font.size'] = 24\n",
    "    display( HTML( '<style>.container { width:100% !important; }</style>') )\n",
    "    sns.set()\n",
    "jupyter_settings()"
   ]
  },
  {
   "cell_type": "code",
   "execution_count": 2,
   "metadata": {
    "ExecuteTime": {
     "end_time": "2022-08-15T21:10:18.408403Z",
     "start_time": "2022-08-15T21:10:18.390449Z"
    }
   },
   "outputs": [],
   "source": [
    "def ml_error(model_name,y,yhat):\n",
    "    import numpy as np\n",
    "    mae = mean_absolute_error(y,yhat)\n",
    "    mape = mean_absolute_percentage_error(y,yhat)\n",
    "    rmse = np.sqrt(mean_squared_error(y,yhat))\n",
    "    \n",
    "    return pd.DataFrame({'Model Name':model_name,\n",
    "                        'MAE':mae,\n",
    "                        'MAPE':mape,\n",
    "                        'RMSE':rmse},index=[0])"
   ]
  },
  {
   "cell_type": "code",
   "execution_count": 3,
   "metadata": {
    "ExecuteTime": {
     "end_time": "2022-08-15T21:10:19.902775Z",
     "start_time": "2022-08-15T21:10:19.882830Z"
    }
   },
   "outputs": [],
   "source": [
    "def cross_validation(x_training, kfold,model_name,model,verbose=False):\n",
    "    mae_list = []\n",
    "    mape_list = []\n",
    "    rmse_list = []\n",
    "    for k in list(range(kfold,0,-1)):\n",
    "        if verbose:\n",
    "            print(f\"kfold: {k}\")\n",
    "        #Start and end date for validation\n",
    "        val_start_date = x_training['date'].max() - datetime.timedelta(days=k*6*7)\n",
    "        val_end_date = x_training['date'].max() - datetime.timedelta(days=(k-1)*6*7)\n",
    "\n",
    "        #filtering dataset\n",
    "        training = x_training[x_training['date']< val_start_date]\n",
    "        validation = x_training[(x_training['date']>= val_start_date)&(x_training['date']<= val_end_date)]\n",
    "\n",
    "        # traini and validation dateset\n",
    "        xtraining = training.drop(columns=['date','sales'])\n",
    "        ytraining = training['sales']\n",
    "\n",
    "        xvalidation = validation.drop(columns=['date','sales'])\n",
    "        yvalidation = validation['sales']\n",
    "\n",
    "        #model\n",
    "        m = model.fit(xtraining, ytraining)\n",
    "\n",
    "\n",
    "        # prediction\n",
    "        yhat = m.predict(xvalidation)\n",
    "\n",
    "        m_result = ml_error(model_name,np.expm1(yvalidation),np.expm1(yhat))\n",
    "        mae_list.append(m_result['MAE'])\n",
    "        mape_list.append(m_result['MAPE'])\n",
    "        rmse_list.append(m_result['RMSE'])\n",
    "        \n",
    "    return pd.DataFrame({'Model name': model_name + \" Cross_Val\",\n",
    "                                'MAE CROSS_VAL':np.round( np.mean( mae_list ), 2 ).astype( str ) + ' +/- ' + np.round( np.std( mae_list ), 2 ).astype( str ),\n",
    "                                'MAPE CROSS_VAL':np.round( np.mean( mape_list ), 2 ).astype( str ) + ' +/- ' + np.round( np.std( mape_list ), 2 ).astype( str ),\n",
    "                                'RMSE CROSS_VAL':np.round( np.mean( rmse_list ), 2 ).astype( str ) + ' +/- ' + np.round( np.std( rmse_list ), 2 ).astype( str )},index=[0])"
   ]
  },
  {
   "cell_type": "code",
   "execution_count": 4,
   "metadata": {
    "ExecuteTime": {
     "end_time": "2022-08-15T21:10:23.230065Z",
     "start_time": "2022-08-15T21:10:23.210054Z"
    }
   },
   "outputs": [],
   "source": [
    "def mean_percentage_error( y, yhat ):\n",
    "    return np.mean( ( y - yhat ) / y )"
   ]
  },
  {
   "cell_type": "markdown",
   "metadata": {},
   "source": [
    "# load data"
   ]
  },
  {
   "cell_type": "code",
   "execution_count": 5,
   "metadata": {
    "ExecuteTime": {
     "end_time": "2022-08-15T21:10:29.018218Z",
     "start_time": "2022-08-15T21:10:25.305018Z"
    }
   },
   "outputs": [],
   "source": [
    "df7 = pd.read_csv('../data/df6.csv',low_memory=False,parse_dates=['date'])"
   ]
  },
  {
   "cell_type": "code",
   "execution_count": 6,
   "metadata": {
    "ExecuteTime": {
     "end_time": "2022-08-15T21:10:30.845335Z",
     "start_time": "2022-08-15T21:10:30.800116Z"
    },
    "scrolled": true
   },
   "outputs": [
    {
     "data": {
      "text/html": [
       "<div>\n",
       "<style scoped>\n",
       "    .dataframe tbody tr th:only-of-type {\n",
       "        vertical-align: middle;\n",
       "    }\n",
       "\n",
       "    .dataframe tbody tr th {\n",
       "        vertical-align: top;\n",
       "    }\n",
       "\n",
       "    .dataframe thead th {\n",
       "        text-align: right;\n",
       "    }\n",
       "</style>\n",
       "<table border=\"1\" class=\"dataframe\">\n",
       "  <thead>\n",
       "    <tr style=\"text-align: right;\">\n",
       "      <th></th>\n",
       "      <th>store</th>\n",
       "      <th>promo</th>\n",
       "      <th>store_type</th>\n",
       "      <th>assortment</th>\n",
       "      <th>competition_distance</th>\n",
       "      <th>competition_open_since_month</th>\n",
       "      <th>competition_open_since_year</th>\n",
       "      <th>promo2</th>\n",
       "      <th>promo2_since_week</th>\n",
       "      <th>promo2_since_year</th>\n",
       "      <th>...</th>\n",
       "      <th>month_sin</th>\n",
       "      <th>month_cos</th>\n",
       "      <th>day_sin</th>\n",
       "      <th>day_cos</th>\n",
       "      <th>week_of_year_sin</th>\n",
       "      <th>week_of_year_cos</th>\n",
       "      <th>day_of_week_sin</th>\n",
       "      <th>day_of_week_cos</th>\n",
       "      <th>sales</th>\n",
       "      <th>date</th>\n",
       "    </tr>\n",
       "  </thead>\n",
       "  <tbody>\n",
       "    <tr>\n",
       "      <th>0</th>\n",
       "      <td>1</td>\n",
       "      <td>1</td>\n",
       "      <td>2</td>\n",
       "      <td>1</td>\n",
       "      <td>-0.170968</td>\n",
       "      <td>9</td>\n",
       "      <td>2008</td>\n",
       "      <td>0</td>\n",
       "      <td>31</td>\n",
       "      <td>2015</td>\n",
       "      <td>...</td>\n",
       "      <td>-0.5</td>\n",
       "      <td>-0.866025</td>\n",
       "      <td>-2.449294e-16</td>\n",
       "      <td>1.0</td>\n",
       "      <td>-0.568065</td>\n",
       "      <td>-0.822984</td>\n",
       "      <td>-0.974928</td>\n",
       "      <td>-0.222521</td>\n",
       "      <td>8.568456</td>\n",
       "      <td>2015-07-31</td>\n",
       "    </tr>\n",
       "    <tr>\n",
       "      <th>1</th>\n",
       "      <td>2</td>\n",
       "      <td>1</td>\n",
       "      <td>0</td>\n",
       "      <td>1</td>\n",
       "      <td>-0.283871</td>\n",
       "      <td>11</td>\n",
       "      <td>2007</td>\n",
       "      <td>1</td>\n",
       "      <td>13</td>\n",
       "      <td>2010</td>\n",
       "      <td>...</td>\n",
       "      <td>-0.5</td>\n",
       "      <td>-0.866025</td>\n",
       "      <td>-2.449294e-16</td>\n",
       "      <td>1.0</td>\n",
       "      <td>-0.568065</td>\n",
       "      <td>-0.822984</td>\n",
       "      <td>-0.974928</td>\n",
       "      <td>-0.222521</td>\n",
       "      <td>8.710125</td>\n",
       "      <td>2015-07-31</td>\n",
       "    </tr>\n",
       "    <tr>\n",
       "      <th>2</th>\n",
       "      <td>3</td>\n",
       "      <td>1</td>\n",
       "      <td>0</td>\n",
       "      <td>1</td>\n",
       "      <td>1.903226</td>\n",
       "      <td>12</td>\n",
       "      <td>2006</td>\n",
       "      <td>1</td>\n",
       "      <td>14</td>\n",
       "      <td>2011</td>\n",
       "      <td>...</td>\n",
       "      <td>-0.5</td>\n",
       "      <td>-0.866025</td>\n",
       "      <td>-2.449294e-16</td>\n",
       "      <td>1.0</td>\n",
       "      <td>-0.568065</td>\n",
       "      <td>-0.822984</td>\n",
       "      <td>-0.974928</td>\n",
       "      <td>-0.222521</td>\n",
       "      <td>9.025696</td>\n",
       "      <td>2015-07-31</td>\n",
       "    </tr>\n",
       "    <tr>\n",
       "      <th>3</th>\n",
       "      <td>4</td>\n",
       "      <td>1</td>\n",
       "      <td>2</td>\n",
       "      <td>3</td>\n",
       "      <td>-0.275806</td>\n",
       "      <td>9</td>\n",
       "      <td>2009</td>\n",
       "      <td>0</td>\n",
       "      <td>31</td>\n",
       "      <td>2015</td>\n",
       "      <td>...</td>\n",
       "      <td>-0.5</td>\n",
       "      <td>-0.866025</td>\n",
       "      <td>-2.449294e-16</td>\n",
       "      <td>1.0</td>\n",
       "      <td>-0.568065</td>\n",
       "      <td>-0.822984</td>\n",
       "      <td>-0.974928</td>\n",
       "      <td>-0.222521</td>\n",
       "      <td>9.546455</td>\n",
       "      <td>2015-07-31</td>\n",
       "    </tr>\n",
       "    <tr>\n",
       "      <th>4</th>\n",
       "      <td>5</td>\n",
       "      <td>1</td>\n",
       "      <td>0</td>\n",
       "      <td>1</td>\n",
       "      <td>4.448387</td>\n",
       "      <td>4</td>\n",
       "      <td>2015</td>\n",
       "      <td>0</td>\n",
       "      <td>31</td>\n",
       "      <td>2015</td>\n",
       "      <td>...</td>\n",
       "      <td>-0.5</td>\n",
       "      <td>-0.866025</td>\n",
       "      <td>-2.449294e-16</td>\n",
       "      <td>1.0</td>\n",
       "      <td>-0.568065</td>\n",
       "      <td>-0.822984</td>\n",
       "      <td>-0.974928</td>\n",
       "      <td>-0.222521</td>\n",
       "      <td>8.480944</td>\n",
       "      <td>2015-07-31</td>\n",
       "    </tr>\n",
       "  </tbody>\n",
       "</table>\n",
       "<p>5 rows × 23 columns</p>\n",
       "</div>"
      ],
      "text/plain": [
       "   store  promo  store_type  assortment  competition_distance  \\\n",
       "0      1      1           2           1             -0.170968   \n",
       "1      2      1           0           1             -0.283871   \n",
       "2      3      1           0           1              1.903226   \n",
       "3      4      1           2           3             -0.275806   \n",
       "4      5      1           0           1              4.448387   \n",
       "\n",
       "   competition_open_since_month  competition_open_since_year  promo2  \\\n",
       "0                             9                         2008       0   \n",
       "1                            11                         2007       1   \n",
       "2                            12                         2006       1   \n",
       "3                             9                         2009       0   \n",
       "4                             4                         2015       0   \n",
       "\n",
       "   promo2_since_week  promo2_since_year  ...  month_sin  month_cos  \\\n",
       "0                 31               2015  ...       -0.5  -0.866025   \n",
       "1                 13               2010  ...       -0.5  -0.866025   \n",
       "2                 14               2011  ...       -0.5  -0.866025   \n",
       "3                 31               2015  ...       -0.5  -0.866025   \n",
       "4                 31               2015  ...       -0.5  -0.866025   \n",
       "\n",
       "        day_sin  day_cos  week_of_year_sin  week_of_year_cos  day_of_week_sin  \\\n",
       "0 -2.449294e-16      1.0         -0.568065         -0.822984        -0.974928   \n",
       "1 -2.449294e-16      1.0         -0.568065         -0.822984        -0.974928   \n",
       "2 -2.449294e-16      1.0         -0.568065         -0.822984        -0.974928   \n",
       "3 -2.449294e-16      1.0         -0.568065         -0.822984        -0.974928   \n",
       "4 -2.449294e-16      1.0         -0.568065         -0.822984        -0.974928   \n",
       "\n",
       "   day_of_week_cos     sales       date  \n",
       "0        -0.222521  8.568456 2015-07-31  \n",
       "1        -0.222521  8.710125 2015-07-31  \n",
       "2        -0.222521  9.025696 2015-07-31  \n",
       "3        -0.222521  9.546455 2015-07-31  \n",
       "4        -0.222521  8.480944 2015-07-31  \n",
       "\n",
       "[5 rows x 23 columns]"
      ]
     },
     "execution_count": 6,
     "metadata": {},
     "output_type": "execute_result"
    }
   ],
   "source": [
    "df7.head()"
   ]
  },
  {
   "cell_type": "code",
   "execution_count": 7,
   "metadata": {
    "ExecuteTime": {
     "end_time": "2022-08-15T21:10:32.947976Z",
     "start_time": "2022-08-15T21:10:32.935971Z"
    },
    "scrolled": true
   },
   "outputs": [
    {
     "data": {
      "text/plain": [
       "(844338, 23)"
      ]
     },
     "execution_count": 7,
     "metadata": {},
     "output_type": "execute_result"
    }
   ],
   "source": [
    "df7.shape"
   ]
  },
  {
   "cell_type": "code",
   "execution_count": 8,
   "metadata": {
    "ExecuteTime": {
     "end_time": "2022-08-15T21:10:34.724198Z",
     "start_time": "2022-08-15T21:10:34.708241Z"
    }
   },
   "outputs": [
    {
     "data": {
      "text/plain": [
       "store                                    int64\n",
       "promo                                    int64\n",
       "store_type                               int64\n",
       "assortment                               int64\n",
       "competition_distance                   float64\n",
       "competition_open_since_month             int64\n",
       "competition_open_since_year              int64\n",
       "promo2                                   int64\n",
       "promo2_since_week                        int64\n",
       "promo2_since_year                        int64\n",
       "competition_time_month                   int64\n",
       "promo_time_week                        float64\n",
       "competition_ time_month                float64\n",
       "month_sin                              float64\n",
       "month_cos                              float64\n",
       "day_sin                                float64\n",
       "day_cos                                float64\n",
       "week_of_year_sin                       float64\n",
       "week_of_year_cos                       float64\n",
       "day_of_week_sin                        float64\n",
       "day_of_week_cos                        float64\n",
       "sales                                  float64\n",
       "date                            datetime64[ns]\n",
       "dtype: object"
      ]
     },
     "execution_count": 8,
     "metadata": {},
     "output_type": "execute_result"
    }
   ],
   "source": [
    "df7.dtypes"
   ]
  },
  {
   "cell_type": "markdown",
   "metadata": {},
   "source": [
    "# Split dataset"
   ]
  },
  {
   "cell_type": "code",
   "execution_count": 9,
   "metadata": {
    "ExecuteTime": {
     "end_time": "2022-08-15T21:10:41.651739Z",
     "start_time": "2022-08-15T21:10:41.466802Z"
    }
   },
   "outputs": [
    {
     "name": "stderr",
     "output_type": "stream",
     "text": [
      "C:\\Users\\Lavin\\anaconda3\\lib\\site-packages\\pandas\\core\\frame.py:4163: SettingWithCopyWarning: \n",
      "A value is trying to be set on a copy of a slice from a DataFrame\n",
      "\n",
      "See the caveats in the documentation: https://pandas.pydata.org/pandas-docs/stable/user_guide/indexing.html#returning-a-view-versus-a-copy\n",
      "  return super().drop(\n"
     ]
    }
   ],
   "source": [
    "#train\n",
    "x_train = df7[df7['date'] < '2015-06-19']\n",
    "y_train = x_train['sales']\n",
    "\n",
    "# test\n",
    "x_test = df7[df7['date'] >= '2015-06-19']\n",
    "y_test = x_test['sales']\n",
    "\n",
    "\n",
    "cols_drop = ['date','sales']\n",
    "x_train.drop(columns=cols_drop,inplace=True)\n",
    "x_test.drop(columns=cols_drop,inplace=True)"
   ]
  },
  {
   "cell_type": "markdown",
   "metadata": {},
   "source": [
    "# Machine learning model"
   ]
  },
  {
   "cell_type": "markdown",
   "metadata": {},
   "source": [
    "## Linear models"
   ]
  },
  {
   "cell_type": "markdown",
   "metadata": {},
   "source": [
    "### Average Model"
   ]
  },
  {
   "cell_type": "code",
   "execution_count": 11,
   "metadata": {
    "ExecuteTime": {
     "end_time": "2022-07-12T18:47:56.944962Z",
     "start_time": "2022-07-12T18:47:56.775715Z"
    }
   },
   "outputs": [
    {
     "data": {
      "text/html": [
       "<div>\n",
       "<style scoped>\n",
       "    .dataframe tbody tr th:only-of-type {\n",
       "        vertical-align: middle;\n",
       "    }\n",
       "\n",
       "    .dataframe tbody tr th {\n",
       "        vertical-align: top;\n",
       "    }\n",
       "\n",
       "    .dataframe thead th {\n",
       "        text-align: right;\n",
       "    }\n",
       "</style>\n",
       "<table border=\"1\" class=\"dataframe\">\n",
       "  <thead>\n",
       "    <tr style=\"text-align: right;\">\n",
       "      <th></th>\n",
       "      <th>Model Name</th>\n",
       "      <th>MAE</th>\n",
       "      <th>MAPE</th>\n",
       "      <th>RMSE</th>\n",
       "    </tr>\n",
       "  </thead>\n",
       "  <tbody>\n",
       "    <tr>\n",
       "      <th>0</th>\n",
       "      <td>Average Model</td>\n",
       "      <td>1354.800167</td>\n",
       "      <td>0.206441</td>\n",
       "      <td>1835.141019</td>\n",
       "    </tr>\n",
       "  </tbody>\n",
       "</table>\n",
       "</div>"
      ],
      "text/plain": [
       "      Model Name          MAE      MAPE         RMSE\n",
       "0  Average Model  1354.800167  0.206441  1835.141019"
      ]
     },
     "execution_count": 11,
     "metadata": {},
     "output_type": "execute_result"
    }
   ],
   "source": [
    "aux_1 = x_test.copy()\n",
    "aux_1['sales'] = y_test.copy()\n",
    "\n",
    "# prediction\n",
    "aux_2 = aux_1[['store','sales']].groupby('store').mean().reset_index().rename(columns={'sales':'predictions'})\n",
    "aux_1 = pd.merge(aux_1,aux_2,how='left',on='store')\n",
    "yhat_baseline = aux_1['predictions']\n",
    "\n",
    "#performace\n",
    "baseline_result = ml_error('Average Model', np.expm1(y_test),np.expm1(yhat_baseline))\n",
    "baseline_result"
   ]
  },
  {
   "cell_type": "markdown",
   "metadata": {},
   "source": [
    "### Linear regression Model"
   ]
  },
  {
   "cell_type": "code",
   "execution_count": 12,
   "metadata": {
    "ExecuteTime": {
     "end_time": "2022-07-12T18:47:58.363998Z",
     "start_time": "2022-07-12T18:47:56.944962Z"
    }
   },
   "outputs": [],
   "source": [
    "#model\n",
    "lr = LinearRegression().fit(x_train,y_train)\n",
    "\n",
    "\n",
    "# prediction\n",
    "yhat_lr = lr.predict(x_test)\n",
    "\n",
    "lr_result = ml_error(\"Linear Regression\",np.expm1(y_test),np.expm1(yhat_lr))"
   ]
  },
  {
   "cell_type": "code",
   "execution_count": 13,
   "metadata": {
    "ExecuteTime": {
     "end_time": "2022-07-12T18:47:58.401752Z",
     "start_time": "2022-07-12T18:47:58.363998Z"
    }
   },
   "outputs": [
    {
     "data": {
      "text/html": [
       "<div>\n",
       "<style scoped>\n",
       "    .dataframe tbody tr th:only-of-type {\n",
       "        vertical-align: middle;\n",
       "    }\n",
       "\n",
       "    .dataframe tbody tr th {\n",
       "        vertical-align: top;\n",
       "    }\n",
       "\n",
       "    .dataframe thead th {\n",
       "        text-align: right;\n",
       "    }\n",
       "</style>\n",
       "<table border=\"1\" class=\"dataframe\">\n",
       "  <thead>\n",
       "    <tr style=\"text-align: right;\">\n",
       "      <th></th>\n",
       "      <th>Model Name</th>\n",
       "      <th>MAE</th>\n",
       "      <th>MAPE</th>\n",
       "      <th>RMSE</th>\n",
       "    </tr>\n",
       "  </thead>\n",
       "  <tbody>\n",
       "    <tr>\n",
       "      <th>0</th>\n",
       "      <td>Linear Regression</td>\n",
       "      <td>1867.651729</td>\n",
       "      <td>0.292898</td>\n",
       "      <td>2671.341479</td>\n",
       "    </tr>\n",
       "  </tbody>\n",
       "</table>\n",
       "</div>"
      ],
      "text/plain": [
       "          Model Name          MAE      MAPE         RMSE\n",
       "0  Linear Regression  1867.651729  0.292898  2671.341479"
      ]
     },
     "execution_count": 13,
     "metadata": {},
     "output_type": "execute_result"
    }
   ],
   "source": [
    "lr_result "
   ]
  },
  {
   "cell_type": "markdown",
   "metadata": {},
   "source": [
    "### Linear Regression Regularized Model - Lasso"
   ]
  },
  {
   "cell_type": "code",
   "execution_count": 14,
   "metadata": {
    "ExecuteTime": {
     "end_time": "2022-07-12T18:48:27.267881Z",
     "start_time": "2022-07-12T18:47:58.401752Z"
    }
   },
   "outputs": [],
   "source": [
    "#model\n",
    "ls = Lasso(alpha=0.001).fit(x_train,y_train)\n",
    "\n",
    "\n",
    "# prediction\n",
    "yhat_ls = ls.predict(x_test)\n",
    "\n",
    "ls_result = ml_error(\"Linear Regression Lasso\",np.expm1(y_test),np.expm1(yhat_ls))"
   ]
  },
  {
   "cell_type": "code",
   "execution_count": 15,
   "metadata": {
    "ExecuteTime": {
     "end_time": "2022-07-12T18:48:27.299124Z",
     "start_time": "2022-07-12T18:48:27.267881Z"
    }
   },
   "outputs": [
    {
     "data": {
      "text/html": [
       "<div>\n",
       "<style scoped>\n",
       "    .dataframe tbody tr th:only-of-type {\n",
       "        vertical-align: middle;\n",
       "    }\n",
       "\n",
       "    .dataframe tbody tr th {\n",
       "        vertical-align: top;\n",
       "    }\n",
       "\n",
       "    .dataframe thead th {\n",
       "        text-align: right;\n",
       "    }\n",
       "</style>\n",
       "<table border=\"1\" class=\"dataframe\">\n",
       "  <thead>\n",
       "    <tr style=\"text-align: right;\">\n",
       "      <th></th>\n",
       "      <th>Model Name</th>\n",
       "      <th>MAE</th>\n",
       "      <th>MAPE</th>\n",
       "      <th>RMSE</th>\n",
       "    </tr>\n",
       "  </thead>\n",
       "  <tbody>\n",
       "    <tr>\n",
       "      <th>0</th>\n",
       "      <td>Linear Regression Lasso</td>\n",
       "      <td>1869.897925</td>\n",
       "      <td>0.292868</td>\n",
       "      <td>2677.289952</td>\n",
       "    </tr>\n",
       "  </tbody>\n",
       "</table>\n",
       "</div>"
      ],
      "text/plain": [
       "                Model Name          MAE      MAPE         RMSE\n",
       "0  Linear Regression Lasso  1869.897925  0.292868  2677.289952"
      ]
     },
     "execution_count": 15,
     "metadata": {},
     "output_type": "execute_result"
    }
   ],
   "source": [
    "ls_result"
   ]
  },
  {
   "cell_type": "markdown",
   "metadata": {},
   "source": [
    "## Non-linear models"
   ]
  },
  {
   "cell_type": "markdown",
   "metadata": {},
   "source": [
    "### Random Forest Regressor"
   ]
  },
  {
   "cell_type": "code",
   "execution_count": 16,
   "metadata": {
    "ExecuteTime": {
     "end_time": "2022-07-12T18:56:55.793282Z",
     "start_time": "2022-07-12T18:48:27.299124Z"
    }
   },
   "outputs": [],
   "source": [
    "#model\n",
    "rf = RandomForestRegressor(n_estimators=100,n_jobs=-1,random_state=42).fit(x_train,y_train)\n",
    " \n",
    "#prediction\n",
    "yhat_rf = rf.predict(x_test)\n",
    "\n",
    "#performace\n",
    "\n",
    "rf_result = ml_error(\"Random Forest Regressor\",np.expm1(y_test),np.expm1(yhat_rf))"
   ]
  },
  {
   "cell_type": "code",
   "execution_count": 17,
   "metadata": {
    "ExecuteTime": {
     "end_time": "2022-07-12T18:56:55.972152Z",
     "start_time": "2022-07-12T18:56:55.821392Z"
    }
   },
   "outputs": [
    {
     "data": {
      "text/html": [
       "<div>\n",
       "<style scoped>\n",
       "    .dataframe tbody tr th:only-of-type {\n",
       "        vertical-align: middle;\n",
       "    }\n",
       "\n",
       "    .dataframe tbody tr th {\n",
       "        vertical-align: top;\n",
       "    }\n",
       "\n",
       "    .dataframe thead th {\n",
       "        text-align: right;\n",
       "    }\n",
       "</style>\n",
       "<table border=\"1\" class=\"dataframe\">\n",
       "  <thead>\n",
       "    <tr style=\"text-align: right;\">\n",
       "      <th></th>\n",
       "      <th>Model Name</th>\n",
       "      <th>MAE</th>\n",
       "      <th>MAPE</th>\n",
       "      <th>RMSE</th>\n",
       "    </tr>\n",
       "  </thead>\n",
       "  <tbody>\n",
       "    <tr>\n",
       "      <th>0</th>\n",
       "      <td>Random Forest Regressor</td>\n",
       "      <td>678.227688</td>\n",
       "      <td>0.099938</td>\n",
       "      <td>1007.885324</td>\n",
       "    </tr>\n",
       "  </tbody>\n",
       "</table>\n",
       "</div>"
      ],
      "text/plain": [
       "                Model Name         MAE      MAPE         RMSE\n",
       "0  Random Forest Regressor  678.227688  0.099938  1007.885324"
      ]
     },
     "execution_count": 17,
     "metadata": {},
     "output_type": "execute_result"
    }
   ],
   "source": [
    "rf_result"
   ]
  },
  {
   "cell_type": "markdown",
   "metadata": {},
   "source": [
    "### XGboost Regressor"
   ]
  },
  {
   "cell_type": "code",
   "execution_count": 18,
   "metadata": {
    "ExecuteTime": {
     "end_time": "2022-07-12T18:59:31.185983Z",
     "start_time": "2022-07-12T18:56:55.974176Z"
    }
   },
   "outputs": [],
   "source": [
    "#model\n",
    "model_xgb = xgb.XGBRegressor(objective='reg:squarederror',\n",
    "                             n_estimators=100,\n",
    "                             eta=0.01,\n",
    "                             max_depth=10,\n",
    "                             subsample=0.7,\n",
    "                             colsample_bytree=0.9).fit(x_train,y_train)\n",
    "\n",
    "#prediction\n",
    "yhat_xg = model_xgb.predict(x_test)\n",
    "\n",
    "#performace\n",
    "\n",
    "xgrf_result = ml_error(\"XGboost Regressor\",np.expm1(y_test),np.expm1(yhat_xg))\n"
   ]
  },
  {
   "cell_type": "code",
   "execution_count": 19,
   "metadata": {
    "ExecuteTime": {
     "end_time": "2022-07-12T18:59:31.226219Z",
     "start_time": "2022-07-12T18:59:31.188005Z"
    }
   },
   "outputs": [
    {
     "data": {
      "text/html": [
       "<div>\n",
       "<style scoped>\n",
       "    .dataframe tbody tr th:only-of-type {\n",
       "        vertical-align: middle;\n",
       "    }\n",
       "\n",
       "    .dataframe tbody tr th {\n",
       "        vertical-align: top;\n",
       "    }\n",
       "\n",
       "    .dataframe thead th {\n",
       "        text-align: right;\n",
       "    }\n",
       "</style>\n",
       "<table border=\"1\" class=\"dataframe\">\n",
       "  <thead>\n",
       "    <tr style=\"text-align: right;\">\n",
       "      <th></th>\n",
       "      <th>Model Name</th>\n",
       "      <th>MAE</th>\n",
       "      <th>MAPE</th>\n",
       "      <th>RMSE</th>\n",
       "    </tr>\n",
       "  </thead>\n",
       "  <tbody>\n",
       "    <tr>\n",
       "      <th>0</th>\n",
       "      <td>XGboost Regressor</td>\n",
       "      <td>6682.891559</td>\n",
       "      <td>0.949457</td>\n",
       "      <td>7330.477249</td>\n",
       "    </tr>\n",
       "  </tbody>\n",
       "</table>\n",
       "</div>"
      ],
      "text/plain": [
       "          Model Name          MAE      MAPE         RMSE\n",
       "0  XGboost Regressor  6682.891559  0.949457  7330.477249"
      ]
     },
     "execution_count": 19,
     "metadata": {},
     "output_type": "execute_result"
    }
   ],
   "source": [
    "xgrf_result"
   ]
  },
  {
   "cell_type": "markdown",
   "metadata": {},
   "source": [
    "## Cross-validation"
   ]
  },
  {
   "cell_type": "markdown",
   "metadata": {},
   "source": [
    "### Linear regression cross validation"
   ]
  },
  {
   "cell_type": "code",
   "execution_count": 41,
   "metadata": {
    "ExecuteTime": {
     "end_time": "2022-08-15T21:41:41.292040Z",
     "start_time": "2022-08-15T21:41:35.295738Z"
    }
   },
   "outputs": [
    {
     "data": {
      "text/html": [
       "<div>\n",
       "<style scoped>\n",
       "    .dataframe tbody tr th:only-of-type {\n",
       "        vertical-align: middle;\n",
       "    }\n",
       "\n",
       "    .dataframe tbody tr th {\n",
       "        vertical-align: top;\n",
       "    }\n",
       "\n",
       "    .dataframe thead th {\n",
       "        text-align: right;\n",
       "    }\n",
       "</style>\n",
       "<table border=\"1\" class=\"dataframe\">\n",
       "  <thead>\n",
       "    <tr style=\"text-align: right;\">\n",
       "      <th></th>\n",
       "      <th>Model name</th>\n",
       "      <th>MAE CROSS_VAL</th>\n",
       "      <th>MAPE CROSS_VAL</th>\n",
       "      <th>RMSE CROSS_VAL</th>\n",
       "    </tr>\n",
       "  </thead>\n",
       "  <tbody>\n",
       "    <tr>\n",
       "      <th>0</th>\n",
       "      <td>Linear Regression Cross_Val</td>\n",
       "      <td>1927.09 +/- 95.13</td>\n",
       "      <td>0.3 +/- 0.02</td>\n",
       "      <td>2724.09 +/- 178.86</td>\n",
       "    </tr>\n",
       "  </tbody>\n",
       "</table>\n",
       "</div>"
      ],
      "text/plain": [
       "                    Model name      MAE CROSS_VAL MAPE CROSS_VAL  \\\n",
       "0  Linear Regression Cross_Val  1927.09 +/- 95.13   0.3 +/- 0.02   \n",
       "\n",
       "       RMSE CROSS_VAL  \n",
       "0  2724.09 +/- 178.86  "
      ]
     },
     "execution_count": 41,
     "metadata": {},
     "output_type": "execute_result"
    }
   ],
   "source": [
    "model = LinearRegression()\n",
    "lr = cross_validation(df7,5,\"Linear Regression\",model)\n",
    "lr"
   ]
  },
  {
   "cell_type": "markdown",
   "metadata": {},
   "source": [
    "### Linear Regression Regularized Model - Lasso cross validation"
   ]
  },
  {
   "cell_type": "code",
   "execution_count": 42,
   "metadata": {
    "ExecuteTime": {
     "end_time": "2022-08-15T21:43:53.874335Z",
     "start_time": "2022-08-15T21:41:41.321511Z"
    },
    "scrolled": false
   },
   "outputs": [
    {
     "data": {
      "text/html": [
       "<div>\n",
       "<style scoped>\n",
       "    .dataframe tbody tr th:only-of-type {\n",
       "        vertical-align: middle;\n",
       "    }\n",
       "\n",
       "    .dataframe tbody tr th {\n",
       "        vertical-align: top;\n",
       "    }\n",
       "\n",
       "    .dataframe thead th {\n",
       "        text-align: right;\n",
       "    }\n",
       "</style>\n",
       "<table border=\"1\" class=\"dataframe\">\n",
       "  <thead>\n",
       "    <tr style=\"text-align: right;\">\n",
       "      <th></th>\n",
       "      <th>Model name</th>\n",
       "      <th>MAE CROSS_VAL</th>\n",
       "      <th>MAPE CROSS_VAL</th>\n",
       "      <th>RMSE CROSS_VAL</th>\n",
       "    </tr>\n",
       "  </thead>\n",
       "  <tbody>\n",
       "    <tr>\n",
       "      <th>0</th>\n",
       "      <td>Lasso Cross_Val</td>\n",
       "      <td>1925.39 +/- 98.72</td>\n",
       "      <td>0.3 +/- 0.01</td>\n",
       "      <td>2728.38 +/- 183.6</td>\n",
       "    </tr>\n",
       "  </tbody>\n",
       "</table>\n",
       "</div>"
      ],
      "text/plain": [
       "        Model name      MAE CROSS_VAL MAPE CROSS_VAL     RMSE CROSS_VAL\n",
       "0  Lasso Cross_Val  1925.39 +/- 98.72   0.3 +/- 0.01  2728.38 +/- 183.6"
      ]
     },
     "execution_count": 42,
     "metadata": {},
     "output_type": "execute_result"
    }
   ],
   "source": [
    "model = Lasso(alpha=0.001)\n",
    "ls = cross_validation(df7,5,\"Lasso\",model)\n",
    "ls"
   ]
  },
  {
   "cell_type": "markdown",
   "metadata": {},
   "source": [
    "### Random Forest Regressor cross validation"
   ]
  },
  {
   "cell_type": "code",
   "execution_count": 43,
   "metadata": {
    "ExecuteTime": {
     "end_time": "2022-08-15T22:23:39.602318Z",
     "start_time": "2022-08-15T21:43:53.877328Z"
    },
    "scrolled": false
   },
   "outputs": [],
   "source": [
    "model = RandomForestRegressor(n_estimators=100,n_jobs=-1,random_state=42)\n",
    "rf = cross_validation(df7,5,\"Random Regressor\",model)"
   ]
  },
  {
   "cell_type": "code",
   "execution_count": 44,
   "metadata": {
    "ExecuteTime": {
     "end_time": "2022-08-15T22:23:39.972136Z",
     "start_time": "2022-08-15T22:23:39.662210Z"
    }
   },
   "outputs": [
    {
     "data": {
      "text/html": [
       "<div>\n",
       "<style scoped>\n",
       "    .dataframe tbody tr th:only-of-type {\n",
       "        vertical-align: middle;\n",
       "    }\n",
       "\n",
       "    .dataframe tbody tr th {\n",
       "        vertical-align: top;\n",
       "    }\n",
       "\n",
       "    .dataframe thead th {\n",
       "        text-align: right;\n",
       "    }\n",
       "</style>\n",
       "<table border=\"1\" class=\"dataframe\">\n",
       "  <thead>\n",
       "    <tr style=\"text-align: right;\">\n",
       "      <th></th>\n",
       "      <th>Model name</th>\n",
       "      <th>MAE CROSS_VAL</th>\n",
       "      <th>MAPE CROSS_VAL</th>\n",
       "      <th>RMSE CROSS_VAL</th>\n",
       "    </tr>\n",
       "  </thead>\n",
       "  <tbody>\n",
       "    <tr>\n",
       "      <th>0</th>\n",
       "      <td>Random Regressor Cross_Val</td>\n",
       "      <td>740.4 +/- 124.21</td>\n",
       "      <td>0.11 +/- 0.02</td>\n",
       "      <td>1108.45 +/- 185.8</td>\n",
       "    </tr>\n",
       "  </tbody>\n",
       "</table>\n",
       "</div>"
      ],
      "text/plain": [
       "                   Model name     MAE CROSS_VAL MAPE CROSS_VAL  \\\n",
       "0  Random Regressor Cross_Val  740.4 +/- 124.21  0.11 +/- 0.02   \n",
       "\n",
       "      RMSE CROSS_VAL  \n",
       "0  1108.45 +/- 185.8  "
      ]
     },
     "execution_count": 44,
     "metadata": {},
     "output_type": "execute_result"
    }
   ],
   "source": [
    "rf"
   ]
  },
  {
   "cell_type": "markdown",
   "metadata": {},
   "source": [
    "### XGboost Regressor cross validation"
   ]
  },
  {
   "cell_type": "code",
   "execution_count": 45,
   "metadata": {
    "ExecuteTime": {
     "end_time": "2022-08-15T22:34:22.196250Z",
     "start_time": "2022-08-15T22:23:39.977143Z"
    },
    "scrolled": false
   },
   "outputs": [
    {
     "data": {
      "text/html": [
       "<div>\n",
       "<style scoped>\n",
       "    .dataframe tbody tr th:only-of-type {\n",
       "        vertical-align: middle;\n",
       "    }\n",
       "\n",
       "    .dataframe tbody tr th {\n",
       "        vertical-align: top;\n",
       "    }\n",
       "\n",
       "    .dataframe thead th {\n",
       "        text-align: right;\n",
       "    }\n",
       "</style>\n",
       "<table border=\"1\" class=\"dataframe\">\n",
       "  <thead>\n",
       "    <tr style=\"text-align: right;\">\n",
       "      <th></th>\n",
       "      <th>Model name</th>\n",
       "      <th>MAE CROSS_VAL</th>\n",
       "      <th>MAPE CROSS_VAL</th>\n",
       "      <th>RMSE CROSS_VAL</th>\n",
       "    </tr>\n",
       "  </thead>\n",
       "  <tbody>\n",
       "    <tr>\n",
       "      <th>0</th>\n",
       "      <td>XGBoost Random Regressor Cross_Val</td>\n",
       "      <td>6786.51 +/- 318.43</td>\n",
       "      <td>0.95 +/- 0.0</td>\n",
       "      <td>7410.61 +/- 364.41</td>\n",
       "    </tr>\n",
       "  </tbody>\n",
       "</table>\n",
       "</div>"
      ],
      "text/plain": [
       "                           Model name       MAE CROSS_VAL MAPE CROSS_VAL  \\\n",
       "0  XGBoost Random Regressor Cross_Val  6786.51 +/- 318.43   0.95 +/- 0.0   \n",
       "\n",
       "       RMSE CROSS_VAL  \n",
       "0  7410.61 +/- 364.41  "
      ]
     },
     "execution_count": 45,
     "metadata": {},
     "output_type": "execute_result"
    }
   ],
   "source": [
    "model = xgb.XGBRegressor(objective='reg:squarederror',\n",
    "                             n_estimators=100,\n",
    "                             eta=0.01,\n",
    "                             max_depth=10,\n",
    "                             subsample=0.7,\n",
    "                             colsample_bytree=0.9)\n",
    "\n",
    "xbr = cross_validation(df7,5,\"XGBoost Random Regressor\",model)\n",
    "xbr"
   ]
  },
  {
   "cell_type": "markdown",
   "metadata": {},
   "source": [
    "# Model comparison"
   ]
  },
  {
   "cell_type": "code",
   "execution_count": 46,
   "metadata": {
    "ExecuteTime": {
     "end_time": "2022-08-15T22:34:22.586225Z",
     "start_time": "2022-08-15T22:34:22.199805Z"
    },
    "scrolled": true
   },
   "outputs": [
    {
     "ename": "NameError",
     "evalue": "name 'baseline_result' is not defined",
     "output_type": "error",
     "traceback": [
      "\u001b[1;31m---------------------------------------------------------------------------\u001b[0m",
      "\u001b[1;31mNameError\u001b[0m                                 Traceback (most recent call last)",
      "\u001b[1;32m<ipython-input-46-85ab6f895678>\u001b[0m in \u001b[0;36m<module>\u001b[1;34m\u001b[0m\n\u001b[1;32m----> 1\u001b[1;33m \u001b[0mmodelling_result\u001b[0m \u001b[1;33m=\u001b[0m \u001b[0mpd\u001b[0m\u001b[1;33m.\u001b[0m\u001b[0mconcat\u001b[0m\u001b[1;33m(\u001b[0m\u001b[1;33m[\u001b[0m\u001b[0mbaseline_result\u001b[0m\u001b[1;33m,\u001b[0m\u001b[0mlr_result\u001b[0m\u001b[1;33m,\u001b[0m\u001b[0mls_result\u001b[0m\u001b[1;33m,\u001b[0m\u001b[0mrf_result\u001b[0m\u001b[1;33m,\u001b[0m\u001b[0mxgrf_result\u001b[0m\u001b[1;33m]\u001b[0m\u001b[1;33m)\u001b[0m\u001b[1;33m\u001b[0m\u001b[1;33m\u001b[0m\u001b[0m\n\u001b[0m\u001b[0;32m      2\u001b[0m \u001b[0mmodelling_result\u001b[0m\u001b[1;33m\u001b[0m\u001b[1;33m\u001b[0m\u001b[0m\n",
      "\u001b[1;31mNameError\u001b[0m: name 'baseline_result' is not defined"
     ]
    }
   ],
   "source": [
    "modelling_result = pd.concat([baseline_result,lr_result,ls_result,rf_result,xgrf_result])\n",
    "modelling_result"
   ]
  },
  {
   "cell_type": "code",
   "execution_count": 47,
   "metadata": {
    "ExecuteTime": {
     "end_time": "2022-08-15T22:34:50.090239Z",
     "start_time": "2022-08-15T22:34:50.045435Z"
    },
    "scrolled": true
   },
   "outputs": [
    {
     "data": {
      "text/html": [
       "<div>\n",
       "<style scoped>\n",
       "    .dataframe tbody tr th:only-of-type {\n",
       "        vertical-align: middle;\n",
       "    }\n",
       "\n",
       "    .dataframe tbody tr th {\n",
       "        vertical-align: top;\n",
       "    }\n",
       "\n",
       "    .dataframe thead th {\n",
       "        text-align: right;\n",
       "    }\n",
       "</style>\n",
       "<table border=\"1\" class=\"dataframe\">\n",
       "  <thead>\n",
       "    <tr style=\"text-align: right;\">\n",
       "      <th></th>\n",
       "      <th>Model name</th>\n",
       "      <th>MAE CROSS_VAL</th>\n",
       "      <th>MAPE CROSS_VAL</th>\n",
       "      <th>RMSE CROSS_VAL</th>\n",
       "    </tr>\n",
       "  </thead>\n",
       "  <tbody>\n",
       "    <tr>\n",
       "      <th>0</th>\n",
       "      <td>Linear Regression Cross_Val</td>\n",
       "      <td>1927.09 +/- 95.13</td>\n",
       "      <td>0.3 +/- 0.02</td>\n",
       "      <td>2724.09 +/- 178.86</td>\n",
       "    </tr>\n",
       "    <tr>\n",
       "      <th>0</th>\n",
       "      <td>Lasso Cross_Val</td>\n",
       "      <td>1925.39 +/- 98.72</td>\n",
       "      <td>0.3 +/- 0.01</td>\n",
       "      <td>2728.38 +/- 183.6</td>\n",
       "    </tr>\n",
       "    <tr>\n",
       "      <th>0</th>\n",
       "      <td>Random Regressor Cross_Val</td>\n",
       "      <td>740.4 +/- 124.21</td>\n",
       "      <td>0.11 +/- 0.02</td>\n",
       "      <td>1108.45 +/- 185.8</td>\n",
       "    </tr>\n",
       "    <tr>\n",
       "      <th>0</th>\n",
       "      <td>XGBoost Random Regressor Cross_Val</td>\n",
       "      <td>6786.51 +/- 318.43</td>\n",
       "      <td>0.95 +/- 0.0</td>\n",
       "      <td>7410.61 +/- 364.41</td>\n",
       "    </tr>\n",
       "  </tbody>\n",
       "</table>\n",
       "</div>"
      ],
      "text/plain": [
       "                           Model name       MAE CROSS_VAL MAPE CROSS_VAL  \\\n",
       "0         Linear Regression Cross_Val   1927.09 +/- 95.13   0.3 +/- 0.02   \n",
       "0                     Lasso Cross_Val   1925.39 +/- 98.72   0.3 +/- 0.01   \n",
       "0          Random Regressor Cross_Val    740.4 +/- 124.21  0.11 +/- 0.02   \n",
       "0  XGBoost Random Regressor Cross_Val  6786.51 +/- 318.43   0.95 +/- 0.0   \n",
       "\n",
       "       RMSE CROSS_VAL  \n",
       "0  2724.09 +/- 178.86  \n",
       "0   2728.38 +/- 183.6  \n",
       "0   1108.45 +/- 185.8  \n",
       "0  7410.61 +/- 364.41  "
      ]
     },
     "execution_count": 47,
     "metadata": {},
     "output_type": "execute_result"
    }
   ],
   "source": [
    "modelling_result_cross_val = pd.concat([lr,ls,rf,xbr])\n",
    "modelling_result_cross_val"
   ]
  },
  {
   "cell_type": "markdown",
   "metadata": {},
   "source": [
    "# Fine tuning"
   ]
  },
  {
   "cell_type": "markdown",
   "metadata": {
    "ExecuteTime": {
     "end_time": "2022-07-11T20:44:53.443086Z",
     "start_time": "2022-07-11T20:44:53.438100Z"
    }
   },
   "source": [
    "## Random Search"
   ]
  },
  {
   "cell_type": "code",
   "execution_count": null,
   "metadata": {
    "ExecuteTime": {
     "end_time": "2022-08-15T22:34:22.591231Z",
     "start_time": "2022-08-15T21:41:35.308Z"
    }
   },
   "outputs": [],
   "source": [
    "# param = {'n_est':[1500,1700,2500,3000,3500],\n",
    "#         'eta':[0.01,0.1,0.3],\n",
    "#         'max_d':[3,5,9],\n",
    "#         'sub':[0.1,0.5,0,7],\n",
    "#         'col_by':[0.3,0.7,0.9],\n",
    "#         'min_ch':[3,8,15]}\n",
    "# MAX_EVAL = 5"
   ]
  },
  {
   "cell_type": "code",
   "execution_count": null,
   "metadata": {
    "ExecuteTime": {
     "end_time": "2022-08-15T22:34:22.598795Z",
     "start_time": "2022-08-15T21:41:35.310Z"
    }
   },
   "outputs": [],
   "source": [
    "# warnings.filterwarnings('ignore')"
   ]
  },
  {
   "cell_type": "code",
   "execution_count": null,
   "metadata": {
    "ExecuteTime": {
     "end_time": "2022-08-15T22:34:22.598795Z",
     "start_time": "2022-08-15T21:41:35.314Z"
    }
   },
   "outputs": [],
   "source": [
    "# import random\n",
    "# final_result = pd.DataFrame()\n",
    "\n",
    "# for i in range( MAX_EVAL ):\n",
    "#    # choose values for parameters randomly\n",
    "#     hp = { k: random.sample( v, 1 )[0] for k, v in param.items() }\n",
    "#     print( hp )\n",
    "   \n",
    "#    # model\n",
    "#     model_xgb = xgb.XGBRegressor( objective='reg:squarederror',\n",
    "#                                  n_estimators=hp['n_est'], \n",
    "#                                  eta=hp['eta'], \n",
    "#                                  max_depth=hp['max_d'], \n",
    "#                                  subsample=hp['sub'],\n",
    "#                                  colsample_bytree=hp['col_by'],\n",
    "#                                  min_child_weight=hp['min_ch'] )\n",
    "\n",
    "#    # performance\n",
    "#     result = cross_validation(df7, 5, 'XGBoost Regressor', model_xgb, verbose=True )\n",
    "#     final_result = pd.concat( [final_result, result] )\n",
    "       \n",
    "# final_result"
   ]
  },
  {
   "cell_type": "markdown",
   "metadata": {},
   "source": [
    "# Final Model"
   ]
  },
  {
   "cell_type": "code",
   "execution_count": null,
   "metadata": {
    "ExecuteTime": {
     "end_time": "2022-08-15T22:34:22.598795Z",
     "start_time": "2022-08-15T21:41:35.317Z"
    }
   },
   "outputs": [],
   "source": [
    "# param_tuned = {\n",
    "#     'n_estimators': 3000,\n",
    "#     'eta': 0.03,\n",
    "#     'max_depth': 5,\n",
    "#     'subsample': 0.7,\n",
    "#     'colsample_bytree': 0.7,\n",
    "#     'min_child_weight': 3 \n",
    "#         }"
   ]
  },
  {
   "cell_type": "code",
   "execution_count": null,
   "metadata": {
    "ExecuteTime": {
     "end_time": "2022-08-15T22:34:22.605827Z",
     "start_time": "2022-08-15T21:41:35.320Z"
    },
    "scrolled": true
   },
   "outputs": [],
   "source": [
    "# # model\n",
    "# model_xgb_tuned = xgb.XGBRegressor( objective='reg:squarederror',\n",
    "#                                     n_estimators=param_tuned['n_estimators'], \n",
    "#                                     eta=param_tuned['eta'], \n",
    "#                                     max_depth=param_tuned['max_depth'], \n",
    "#                                     subsample=param_tuned['subsample'],\n",
    "#                                     colsample_bytree=param_tuned['colsample_bytree'],\n",
    "#                                     min_child_weight=param_tuned['min_child_weight'] ).fit( x_train, y_train )\n",
    "\n",
    "# # prediction\n",
    "# yhat_xgb_tuned = model_xgb_tuned.predict( x_test )\n",
    "\n",
    "# # performance\n",
    "# xgb_result_tuned = ml_error( 'XGBoost Regressor', np.expm1( y_test ), np.expm1( yhat_xgb_tuned ) )\n",
    "# xgb_result_tuned"
   ]
  },
  {
   "cell_type": "code",
   "execution_count": 48,
   "metadata": {
    "ExecuteTime": {
     "end_time": "2022-08-15T22:35:24.155131Z",
     "start_time": "2022-08-15T22:35:21.659309Z"
    }
   },
   "outputs": [
    {
     "data": {
      "text/html": [
       "<div>\n",
       "<style scoped>\n",
       "    .dataframe tbody tr th:only-of-type {\n",
       "        vertical-align: middle;\n",
       "    }\n",
       "\n",
       "    .dataframe tbody tr th {\n",
       "        vertical-align: top;\n",
       "    }\n",
       "\n",
       "    .dataframe thead th {\n",
       "        text-align: right;\n",
       "    }\n",
       "</style>\n",
       "<table border=\"1\" class=\"dataframe\">\n",
       "  <thead>\n",
       "    <tr style=\"text-align: right;\">\n",
       "      <th></th>\n",
       "      <th>Model Name</th>\n",
       "      <th>MAE</th>\n",
       "      <th>MAPE</th>\n",
       "      <th>RMSE</th>\n",
       "    </tr>\n",
       "  </thead>\n",
       "  <tbody>\n",
       "    <tr>\n",
       "      <th>0</th>\n",
       "      <td>XGBoost Regressor</td>\n",
       "      <td>759.253543</td>\n",
       "      <td>0.115643</td>\n",
       "      <td>1083.27381</td>\n",
       "    </tr>\n",
       "  </tbody>\n",
       "</table>\n",
       "</div>"
      ],
      "text/plain": [
       "          Model Name         MAE      MAPE        RMSE\n",
       "0  XGBoost Regressor  759.253543  0.115643  1083.27381"
      ]
     },
     "execution_count": 48,
     "metadata": {},
     "output_type": "execute_result"
    }
   ],
   "source": [
    "# prediction\n",
    "model_xgb_tuned = pickle.load(open('model/model_rossman_xgb.pkl','rb'))\n",
    "yhat_xgb_tuned = model_xgb_tuned.predict( x_test )\n",
    "\n",
    "# performance\n",
    "xgb_result_tuned = ml_error( 'XGBoost Regressor', np.expm1( y_test ), np.expm1( yhat_xgb_tuned ) )\n",
    "xgb_result_tuned"
   ]
  },
  {
   "cell_type": "code",
   "execution_count": null,
   "metadata": {
    "ExecuteTime": {
     "end_time": "2022-08-15T22:34:22.610834Z",
     "start_time": "2022-08-15T21:41:35.328Z"
    }
   },
   "outputs": [],
   "source": [
    "np.expm1(yhat_xgb_tuned)"
   ]
  },
  {
   "cell_type": "code",
   "execution_count": null,
   "metadata": {
    "ExecuteTime": {
     "end_time": "2022-08-15T22:34:22.615876Z",
     "start_time": "2022-08-15T21:41:35.331Z"
    }
   },
   "outputs": [],
   "source": [
    "#pickle.dump(model_xgb_tuned,open('model/model_rossman_xgb.pkl','wb'))"
   ]
  },
  {
   "cell_type": "markdown",
   "metadata": {},
   "source": [
    "**MPE**"
   ]
  },
  {
   "cell_type": "code",
   "execution_count": 49,
   "metadata": {
    "ExecuteTime": {
     "end_time": "2022-08-15T23:07:00.150971Z",
     "start_time": "2022-08-15T23:07:00.101040Z"
    }
   },
   "outputs": [
    {
     "data": {
      "text/plain": [
       "-0.02435192019278294"
      ]
     },
     "execution_count": 49,
     "metadata": {},
     "output_type": "execute_result"
    }
   ],
   "source": [
    "mpe = mean_percentage_error(np.expm1( y_test ), np.expm1( yhat_xgb_tuned ))\n",
    "mpe"
   ]
  },
  {
   "cell_type": "code",
   "execution_count": null,
   "metadata": {
    "ExecuteTime": {
     "end_time": "2022-08-15T22:34:22.620885Z",
     "start_time": "2022-08-15T21:41:35.337Z"
    }
   },
   "outputs": [],
   "source": [
    "#np.savetxt('data/predictions_xgb_3000.csv',yhat_xgb_tuned,delimiter=',')"
   ]
  },
  {
   "cell_type": "markdown",
   "metadata": {},
   "source": [
    "# Tradução e interpretação do erro"
   ]
  },
  {
   "cell_type": "code",
   "execution_count": 50,
   "metadata": {
    "ExecuteTime": {
     "end_time": "2022-08-15T23:07:05.940804Z",
     "start_time": "2022-08-15T23:07:05.891522Z"
    }
   },
   "outputs": [],
   "source": [
    "df8 = df7[df7['date'] >= '2015-06-19']"
   ]
  },
  {
   "cell_type": "code",
   "execution_count": 51,
   "metadata": {
    "ExecuteTime": {
     "end_time": "2022-08-15T23:07:07.641005Z",
     "start_time": "2022-08-15T23:07:07.611044Z"
    },
    "scrolled": true
   },
   "outputs": [
    {
     "name": "stderr",
     "output_type": "stream",
     "text": [
      "<ipython-input-51-205ead7a6340>:1: SettingWithCopyWarning: \n",
      "A value is trying to be set on a copy of a slice from a DataFrame.\n",
      "Try using .loc[row_indexer,col_indexer] = value instead\n",
      "\n",
      "See the caveats in the documentation: https://pandas.pydata.org/pandas-docs/stable/user_guide/indexing.html#returning-a-view-versus-a-copy\n",
      "  df8['sales'] = np.expm1(df8['sales'])\n",
      "<ipython-input-51-205ead7a6340>:2: SettingWithCopyWarning: \n",
      "A value is trying to be set on a copy of a slice from a DataFrame.\n",
      "Try using .loc[row_indexer,col_indexer] = value instead\n",
      "\n",
      "See the caveats in the documentation: https://pandas.pydata.org/pandas-docs/stable/user_guide/indexing.html#returning-a-view-versus-a-copy\n",
      "  df8['predictions'] = np.expm1(yhat_xgb_tuned)\n"
     ]
    }
   ],
   "source": [
    "df8['sales'] = np.expm1(df8['sales'])\n",
    "df8['predictions'] = np.expm1(yhat_xgb_tuned)"
   ]
  },
  {
   "cell_type": "code",
   "execution_count": 52,
   "metadata": {
    "ExecuteTime": {
     "end_time": "2022-08-15T23:07:10.641166Z",
     "start_time": "2022-08-15T23:07:09.730827Z"
    }
   },
   "outputs": [],
   "source": [
    "# sum of predictions\n",
    "df8_a = df8[['store','predictions']].groupby('store').sum().reset_index()\n",
    "\n",
    "#MAE and MAPE\n",
    "df8_b = df8[['store','sales','predictions']].groupby('store').apply(lambda x:mean_absolute_error(x['sales'],x['predictions'])).reset_index().rename({0:'MAE'},axis=1)\n",
    "df8_c = df8[['store','sales','predictions']].groupby('store').apply(lambda x:mean_absolute_percentage_error(x['sales'],x['predictions'])).reset_index().rename({0:'MAPE'},axis=1)\n",
    "\n",
    "df8_a['MAE'] = df8_b['MAE']\n",
    "df8_a['MAPE'] = df8_c['MAPE']\n",
    "\n",
    "# scenario\n",
    "df8_a['worst_scenario'] = df8_a['predictions'] - df8_a['MAE']\n",
    "df8_a['best_scenario'] = df8_a['predictions'] + df8_a['MAE']\n",
    "\n",
    "df8_a = df8_a[['store', 'predictions', 'worst_scenario','best_scenario', 'MAE', 'MAPE']]"
   ]
  },
  {
   "cell_type": "code",
   "execution_count": 64,
   "metadata": {
    "ExecuteTime": {
     "end_time": "2022-08-15T23:10:42.990804Z",
     "start_time": "2022-08-15T23:10:42.970680Z"
    }
   },
   "outputs": [
    {
     "data": {
      "text/html": [
       "<div>\n",
       "<style scoped>\n",
       "    .dataframe tbody tr th:only-of-type {\n",
       "        vertical-align: middle;\n",
       "    }\n",
       "\n",
       "    .dataframe tbody tr th {\n",
       "        vertical-align: top;\n",
       "    }\n",
       "\n",
       "    .dataframe thead th {\n",
       "        text-align: right;\n",
       "    }\n",
       "</style>\n",
       "<table border=\"1\" class=\"dataframe\">\n",
       "  <thead>\n",
       "    <tr style=\"text-align: right;\">\n",
       "      <th></th>\n",
       "      <th>store</th>\n",
       "      <th>predictions</th>\n",
       "      <th>worst_scenario</th>\n",
       "      <th>best_scenario</th>\n",
       "      <th>MAE</th>\n",
       "      <th>MAPE</th>\n",
       "    </tr>\n",
       "  </thead>\n",
       "  <tbody>\n",
       "    <tr>\n",
       "      <th>131</th>\n",
       "      <td>132</td>\n",
       "      <td>242412.562500</td>\n",
       "      <td>241341.100718</td>\n",
       "      <td>243484.024282</td>\n",
       "      <td>1071.461782</td>\n",
       "      <td>0.140173</td>\n",
       "    </tr>\n",
       "    <tr>\n",
       "      <th>74</th>\n",
       "      <td>75</td>\n",
       "      <td>230443.890625</td>\n",
       "      <td>229930.479136</td>\n",
       "      <td>230957.302114</td>\n",
       "      <td>513.411489</td>\n",
       "      <td>0.078379</td>\n",
       "    </tr>\n",
       "    <tr>\n",
       "      <th>457</th>\n",
       "      <td>458</td>\n",
       "      <td>273112.500000</td>\n",
       "      <td>272067.977460</td>\n",
       "      <td>274157.022540</td>\n",
       "      <td>1044.522540</td>\n",
       "      <td>0.128955</td>\n",
       "    </tr>\n",
       "    <tr>\n",
       "      <th>33</th>\n",
       "      <td>34</td>\n",
       "      <td>297427.562500</td>\n",
       "      <td>296862.141562</td>\n",
       "      <td>297992.983438</td>\n",
       "      <td>565.420938</td>\n",
       "      <td>0.067047</td>\n",
       "    </tr>\n",
       "    <tr>\n",
       "      <th>997</th>\n",
       "      <td>998</td>\n",
       "      <td>168223.218750</td>\n",
       "      <td>167733.592681</td>\n",
       "      <td>168712.844819</td>\n",
       "      <td>489.626069</td>\n",
       "      <td>0.108891</td>\n",
       "    </tr>\n",
       "  </tbody>\n",
       "</table>\n",
       "</div>"
      ],
      "text/plain": [
       "     store    predictions  worst_scenario  best_scenario          MAE  \\\n",
       "131    132  242412.562500   241341.100718  243484.024282  1071.461782   \n",
       "74      75  230443.890625   229930.479136  230957.302114   513.411489   \n",
       "457    458  273112.500000   272067.977460  274157.022540  1044.522540   \n",
       "33      34  297427.562500   296862.141562  297992.983438   565.420938   \n",
       "997    998  168223.218750   167733.592681  168712.844819   489.626069   \n",
       "\n",
       "         MAPE  \n",
       "131  0.140173  \n",
       "74   0.078379  \n",
       "457  0.128955  \n",
       "33   0.067047  \n",
       "997  0.108891  "
      ]
     },
     "execution_count": 64,
     "metadata": {},
     "output_type": "execute_result"
    }
   ],
   "source": [
    "df8_a.sample(5)"
   ]
  },
  {
   "cell_type": "code",
   "execution_count": 53,
   "metadata": {
    "ExecuteTime": {
     "end_time": "2022-08-15T23:07:13.195622Z",
     "start_time": "2022-08-15T23:07:12.621472Z"
    },
    "scrolled": true
   },
   "outputs": [
    {
     "data": {
      "image/png": "[encoded data removed]",
      "text/plain": [
       "<Figure size 1800x864 with 1 Axes>"
      ]
     },
     "metadata": {},
     "output_type": "display_data"
    }
   ],
   "source": [
    "sns.scatterplot(x='store',y='MAPE',data=df8_a);"
   ]
  },
  {
   "cell_type": "markdown",
   "metadata": {},
   "source": [
    "## Total performace"
   ]
  },
  {
   "cell_type": "code",
   "execution_count": 54,
   "metadata": {
    "ExecuteTime": {
     "end_time": "2022-08-15T23:07:18.106332Z",
     "start_time": "2022-08-15T23:07:18.071341Z"
    }
   },
   "outputs": [
    {
     "data": {
      "text/html": [
       "<div>\n",
       "<style scoped>\n",
       "    .dataframe tbody tr th:only-of-type {\n",
       "        vertical-align: middle;\n",
       "    }\n",
       "\n",
       "    .dataframe tbody tr th {\n",
       "        vertical-align: top;\n",
       "    }\n",
       "\n",
       "    .dataframe thead th {\n",
       "        text-align: right;\n",
       "    }\n",
       "</style>\n",
       "<table border=\"1\" class=\"dataframe\">\n",
       "  <thead>\n",
       "    <tr style=\"text-align: right;\">\n",
       "      <th></th>\n",
       "      <th>scenarios</th>\n",
       "      <th>values</th>\n",
       "    </tr>\n",
       "  </thead>\n",
       "  <tbody>\n",
       "    <tr>\n",
       "      <th>0</th>\n",
       "      <td>predictions</td>\n",
       "      <td>R$ 288,028,928.00</td>\n",
       "    </tr>\n",
       "    <tr>\n",
       "      <th>1</th>\n",
       "      <td>worst_scenario</td>\n",
       "      <td>R$ 287,179,218.78</td>\n",
       "    </tr>\n",
       "    <tr>\n",
       "      <th>2</th>\n",
       "      <td>best_scenario</td>\n",
       "      <td>R$ 288,878,591.11</td>\n",
       "    </tr>\n",
       "  </tbody>\n",
       "</table>\n",
       "</div>"
      ],
      "text/plain": [
       "        scenarios             values\n",
       "0     predictions  R$ 288,028,928.00\n",
       "1  worst_scenario  R$ 287,179,218.78\n",
       "2   best_scenario  R$ 288,878,591.11"
      ]
     },
     "execution_count": 54,
     "metadata": {},
     "output_type": "execute_result"
    }
   ],
   "source": [
    "df8_d = df8_a[['predictions', 'worst_scenario','best_scenario']].apply(lambda x:np.sum(x),axis=0).reset_index().rename({'index':'scenarios',0:'values'},axis=1)\n",
    "df8_d['values'] = df8_d['values'].map('R$ {:,.2f}'.format)\n",
    "df8_d"
   ]
  },
  {
   "cell_type": "code",
   "execution_count": 55,
   "metadata": {
    "ExecuteTime": {
     "end_time": "2022-08-15T23:07:19.960910Z",
     "start_time": "2022-08-15T23:07:19.945277Z"
    }
   },
   "outputs": [
    {
     "name": "stderr",
     "output_type": "stream",
     "text": [
      "<ipython-input-55-ce59055ebe70>:1: SettingWithCopyWarning: \n",
      "A value is trying to be set on a copy of a slice from a DataFrame.\n",
      "Try using .loc[row_indexer,col_indexer] = value instead\n",
      "\n",
      "See the caveats in the documentation: https://pandas.pydata.org/pandas-docs/stable/user_guide/indexing.html#returning-a-view-versus-a-copy\n",
      "  df8['error'] = df8['sales'] - df8['predictions']\n",
      "<ipython-input-55-ce59055ebe70>:2: SettingWithCopyWarning: \n",
      "A value is trying to be set on a copy of a slice from a DataFrame.\n",
      "Try using .loc[row_indexer,col_indexer] = value instead\n",
      "\n",
      "See the caveats in the documentation: https://pandas.pydata.org/pandas-docs/stable/user_guide/indexing.html#returning-a-view-versus-a-copy\n",
      "  df8['error_rate'] = df8['predictions']/df8['sales']\n"
     ]
    }
   ],
   "source": [
    "df8['error'] = df8['sales'] - df8['predictions']\n",
    "df8['error_rate'] = df8['predictions']/df8['sales']"
   ]
  },
  {
   "cell_type": "code",
   "execution_count": 65,
   "metadata": {
    "ExecuteTime": {
     "end_time": "2022-08-15T23:13:13.600898Z",
     "start_time": "2022-08-15T23:13:07.470824Z"
    }
   },
   "outputs": [
    {
     "name": "stderr",
     "output_type": "stream",
     "text": [
      "C:\\Users\\Lavin\\anaconda3\\lib\\site-packages\\seaborn\\distributions.py:2551: FutureWarning: `distplot` is a deprecated function and will be removed in a future version. Please adapt your code to use either `displot` (a figure-level function with similar flexibility) or `histplot` (an axes-level function for histograms).\n",
      "  warnings.warn(msg, FutureWarning)\n"
     ]
    },
    {
     "data": {
      "text/plain": [
       "<AxesSubplot:xlabel='predictions', ylabel='error'>"
      ]
     },
     "execution_count": 65,
     "metadata": {},
     "output_type": "execute_result"
    },
    {
     "data": {
      "image/png": "[encoded data removed]",
      "text/plain": [
       "<Figure size 1800x864 with 4 Axes>"
      ]
     },
     "metadata": {},
     "output_type": "display_data"
    }
   ],
   "source": [
    "plt.subplot(2,2,1)\n",
    "sns.lineplot(x='date',y='sales',data=df8,label='Sales')\n",
    "sns.lineplot(x='date',y='predictions',data=df8,label='Predictions')\n",
    "\n",
    "plt.subplot(2,2,2)\n",
    "sns.lineplot(x='date',y='error_rate',data=df8)\n",
    "plt.axhline(1,linestyle='--')\n",
    "plt.subplot(2,2,3)\n",
    "sns.distplot(df8['error'])\n",
    "plt.subplot(2,2,4)\n",
    "sns.scatterplot(x='predictions',y='error',data=df8)"
   ]
  }
 ],
 "metadata": {
  "kernelspec": {
   "display_name": "Python 3",
   "language": "python",
   "name": "python3"
  },
  "language_info": {
   "codemirror_mode": {
    "name": "ipython",
    "version": 3
   },
   "file_extension": ".py",
   "mimetype": "text/x-python",
   "name": "python",
   "nbconvert_exporter": "python",
   "pygments_lexer": "ipython3",
   "version": "3.8.5"
  }
 },
 "nbformat": 4,
 "nbformat_minor": 4
}
