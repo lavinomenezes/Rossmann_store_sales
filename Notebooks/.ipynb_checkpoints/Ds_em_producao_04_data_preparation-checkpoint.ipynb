{
 "cells": [
  {
   "cell_type": "markdown",
   "metadata": {},
   "source": [
    "# imports"
   ]
  },
  {
   "cell_type": "code",
   "execution_count": 1,
   "metadata": {
    "ExecuteTime": {
     "end_time": "2022-07-14T18:20:13.389184Z",
     "start_time": "2022-07-14T18:20:11.473160Z"
    }
   },
   "outputs": [],
   "source": [
    "import pandas as pd\n",
    "import numpy as np\n",
    "import seaborn as sns\n",
    "import datetime\n",
    "import pickle\n",
    "from matplotlib import pyplot as plt\n",
    "from IPython.core.display import HTML\n",
    "from IPython.display import Image\n",
    "from sklearn.preprocessing import RobustScaler, MinMaxScaler, LabelEncoder"
   ]
  },
  {
   "cell_type": "markdown",
   "metadata": {},
   "source": [
    "# Helper functions"
   ]
  },
  {
   "cell_type": "code",
   "execution_count": 2,
   "metadata": {
    "ExecuteTime": {
     "end_time": "2022-07-14T18:20:13.435845Z",
     "start_time": "2022-07-14T18:20:13.393179Z"
    }
   },
   "outputs": [
    {
     "name": "stdout",
     "output_type": "stream",
     "text": [
      "Populating the interactive namespace from numpy and matplotlib\n"
     ]
    },
    {
     "data": {
      "text/html": [
       "<style>.container { width:100% !important; }</style>"
      ],
      "text/plain": [
       "<IPython.core.display.HTML object>"
      ]
     },
     "metadata": {},
     "output_type": "display_data"
    }
   ],
   "source": [
    "def jupyter_settings():\n",
    "    %matplotlib inline\n",
    "    %pylab inline\n",
    "    plt.style.use( 'bmh' )\n",
    "    plt.rcParams['figure.figsize'] = [25, 12]\n",
    "    plt.rcParams['font.size'] = 24\n",
    "    display( HTML( '<style>.container { width:100% !important; }</style>') )\n",
    "    sns.set()\n",
    "jupyter_settings()"
   ]
  },
  {
   "cell_type": "markdown",
   "metadata": {},
   "source": [
    "# load data"
   ]
  },
  {
   "cell_type": "code",
   "execution_count": 3,
   "metadata": {
    "ExecuteTime": {
     "end_time": "2022-07-14T18:20:16.740081Z",
     "start_time": "2022-07-14T18:20:13.440836Z"
    }
   },
   "outputs": [],
   "source": [
    "df5 = pd.read_csv('../data/df4.csv',low_memory=False,parse_dates=['date','competition_since','promo_since'])"
   ]
  },
  {
   "cell_type": "code",
   "execution_count": 4,
   "metadata": {
    "ExecuteTime": {
     "end_time": "2022-07-14T18:20:16.803636Z",
     "start_time": "2022-07-14T18:20:16.746788Z"
    },
    "scrolled": true
   },
   "outputs": [
    {
     "data": {
      "text/html": [
       "<div>\n",
       "<style scoped>\n",
       "    .dataframe tbody tr th:only-of-type {\n",
       "        vertical-align: middle;\n",
       "    }\n",
       "\n",
       "    .dataframe tbody tr th {\n",
       "        vertical-align: top;\n",
       "    }\n",
       "\n",
       "    .dataframe thead th {\n",
       "        text-align: right;\n",
       "    }\n",
       "</style>\n",
       "<table border=\"1\" class=\"dataframe\">\n",
       "  <thead>\n",
       "    <tr style=\"text-align: right;\">\n",
       "      <th></th>\n",
       "      <th>store</th>\n",
       "      <th>day_of_week</th>\n",
       "      <th>date</th>\n",
       "      <th>sales</th>\n",
       "      <th>promo</th>\n",
       "      <th>state_holiday</th>\n",
       "      <th>school_holiday</th>\n",
       "      <th>store_type</th>\n",
       "      <th>assortment</th>\n",
       "      <th>competition_distance</th>\n",
       "      <th>...</th>\n",
       "      <th>year</th>\n",
       "      <th>month</th>\n",
       "      <th>day</th>\n",
       "      <th>week_of_year</th>\n",
       "      <th>year_week</th>\n",
       "      <th>competition_since</th>\n",
       "      <th>competition_time_month</th>\n",
       "      <th>promo_since</th>\n",
       "      <th>promo_time_week</th>\n",
       "      <th>season</th>\n",
       "    </tr>\n",
       "  </thead>\n",
       "  <tbody>\n",
       "    <tr>\n",
       "      <th>0</th>\n",
       "      <td>1</td>\n",
       "      <td>5</td>\n",
       "      <td>2015-07-31</td>\n",
       "      <td>5263</td>\n",
       "      <td>1</td>\n",
       "      <td>regular_day</td>\n",
       "      <td>1</td>\n",
       "      <td>c</td>\n",
       "      <td>basic</td>\n",
       "      <td>1270.0</td>\n",
       "      <td>...</td>\n",
       "      <td>2015</td>\n",
       "      <td>7</td>\n",
       "      <td>31</td>\n",
       "      <td>31</td>\n",
       "      <td>2015-07</td>\n",
       "      <td>2008-09-01</td>\n",
       "      <td>84</td>\n",
       "      <td>2015-07-27</td>\n",
       "      <td>0</td>\n",
       "      <td>summer</td>\n",
       "    </tr>\n",
       "    <tr>\n",
       "      <th>1</th>\n",
       "      <td>2</td>\n",
       "      <td>5</td>\n",
       "      <td>2015-07-31</td>\n",
       "      <td>6064</td>\n",
       "      <td>1</td>\n",
       "      <td>regular_day</td>\n",
       "      <td>1</td>\n",
       "      <td>a</td>\n",
       "      <td>basic</td>\n",
       "      <td>570.0</td>\n",
       "      <td>...</td>\n",
       "      <td>2015</td>\n",
       "      <td>7</td>\n",
       "      <td>31</td>\n",
       "      <td>31</td>\n",
       "      <td>2015-07</td>\n",
       "      <td>2007-11-01</td>\n",
       "      <td>94</td>\n",
       "      <td>2010-03-22</td>\n",
       "      <td>279</td>\n",
       "      <td>summer</td>\n",
       "    </tr>\n",
       "    <tr>\n",
       "      <th>2</th>\n",
       "      <td>3</td>\n",
       "      <td>5</td>\n",
       "      <td>2015-07-31</td>\n",
       "      <td>8314</td>\n",
       "      <td>1</td>\n",
       "      <td>regular_day</td>\n",
       "      <td>1</td>\n",
       "      <td>a</td>\n",
       "      <td>basic</td>\n",
       "      <td>14130.0</td>\n",
       "      <td>...</td>\n",
       "      <td>2015</td>\n",
       "      <td>7</td>\n",
       "      <td>31</td>\n",
       "      <td>31</td>\n",
       "      <td>2015-07</td>\n",
       "      <td>2006-12-01</td>\n",
       "      <td>105</td>\n",
       "      <td>2011-03-28</td>\n",
       "      <td>226</td>\n",
       "      <td>summer</td>\n",
       "    </tr>\n",
       "    <tr>\n",
       "      <th>3</th>\n",
       "      <td>4</td>\n",
       "      <td>5</td>\n",
       "      <td>2015-07-31</td>\n",
       "      <td>13995</td>\n",
       "      <td>1</td>\n",
       "      <td>regular_day</td>\n",
       "      <td>1</td>\n",
       "      <td>c</td>\n",
       "      <td>extended</td>\n",
       "      <td>620.0</td>\n",
       "      <td>...</td>\n",
       "      <td>2015</td>\n",
       "      <td>7</td>\n",
       "      <td>31</td>\n",
       "      <td>31</td>\n",
       "      <td>2015-07</td>\n",
       "      <td>2009-09-01</td>\n",
       "      <td>71</td>\n",
       "      <td>2015-07-27</td>\n",
       "      <td>0</td>\n",
       "      <td>summer</td>\n",
       "    </tr>\n",
       "    <tr>\n",
       "      <th>4</th>\n",
       "      <td>5</td>\n",
       "      <td>5</td>\n",
       "      <td>2015-07-31</td>\n",
       "      <td>4822</td>\n",
       "      <td>1</td>\n",
       "      <td>regular_day</td>\n",
       "      <td>1</td>\n",
       "      <td>a</td>\n",
       "      <td>basic</td>\n",
       "      <td>29910.0</td>\n",
       "      <td>...</td>\n",
       "      <td>2015</td>\n",
       "      <td>7</td>\n",
       "      <td>31</td>\n",
       "      <td>31</td>\n",
       "      <td>2015-07</td>\n",
       "      <td>2015-04-01</td>\n",
       "      <td>4</td>\n",
       "      <td>2015-07-27</td>\n",
       "      <td>0</td>\n",
       "      <td>summer</td>\n",
       "    </tr>\n",
       "  </tbody>\n",
       "</table>\n",
       "<p>5 rows × 26 columns</p>\n",
       "</div>"
      ],
      "text/plain": [
       "   store  day_of_week        date  sales  promo state_holiday  school_holiday  \\\n",
       "0      1            5  2015-07-31   5263      1   regular_day               1   \n",
       "1      2            5  2015-07-31   6064      1   regular_day               1   \n",
       "2      3            5  2015-07-31   8314      1   regular_day               1   \n",
       "3      4            5  2015-07-31  13995      1   regular_day               1   \n",
       "4      5            5  2015-07-31   4822      1   regular_day               1   \n",
       "\n",
       "  store_type assortment  competition_distance  ...  year  month  day  \\\n",
       "0          c      basic                1270.0  ...  2015      7   31   \n",
       "1          a      basic                 570.0  ...  2015      7   31   \n",
       "2          a      basic               14130.0  ...  2015      7   31   \n",
       "3          c   extended                 620.0  ...  2015      7   31   \n",
       "4          a      basic               29910.0  ...  2015      7   31   \n",
       "\n",
       "   week_of_year  year_week  competition_since  competition_time_month  \\\n",
       "0            31    2015-07         2008-09-01                      84   \n",
       "1            31    2015-07         2007-11-01                      94   \n",
       "2            31    2015-07         2006-12-01                     105   \n",
       "3            31    2015-07         2009-09-01                      71   \n",
       "4            31    2015-07         2015-04-01                       4   \n",
       "\n",
       "   promo_since  promo_time_week  season  \n",
       "0   2015-07-27                0  summer  \n",
       "1   2010-03-22              279  summer  \n",
       "2   2011-03-28              226  summer  \n",
       "3   2015-07-27                0  summer  \n",
       "4   2015-07-27                0  summer  \n",
       "\n",
       "[5 rows x 26 columns]"
      ]
     },
     "execution_count": 4,
     "metadata": {},
     "output_type": "execute_result"
    }
   ],
   "source": [
    "df5.head()"
   ]
  },
  {
   "cell_type": "code",
   "execution_count": 5,
   "metadata": {
    "ExecuteTime": {
     "end_time": "2022-07-14T18:20:16.819594Z",
     "start_time": "2022-07-14T18:20:16.810618Z"
    },
    "scrolled": false
   },
   "outputs": [
    {
     "data": {
      "text/plain": [
       "store                             int64\n",
       "day_of_week                       int64\n",
       "date                             object\n",
       "sales                             int64\n",
       "promo                             int64\n",
       "state_holiday                    object\n",
       "school_holiday                    int64\n",
       "store_type                       object\n",
       "assortment                       object\n",
       "competition_distance            float64\n",
       "competition_open_since_month      int64\n",
       "competition_open_since_year       int64\n",
       "promo2                            int64\n",
       "promo2_since_week                 int64\n",
       "promo2_since_year                 int64\n",
       "is_promo                          int64\n",
       "year                              int64\n",
       "month                             int64\n",
       "day                               int64\n",
       "week_of_year                      int64\n",
       "year_week                        object\n",
       "competition_since                object\n",
       "competition_time_month            int64\n",
       "promo_since                      object\n",
       "promo_time_week                   int64\n",
       "season                           object\n",
       "dtype: object"
      ]
     },
     "execution_count": 5,
     "metadata": {},
     "output_type": "execute_result"
    }
   ],
   "source": [
    "df5.dtypes"
   ]
  },
  {
   "cell_type": "code",
   "execution_count": 7,
   "metadata": {
    "ExecuteTime": {
     "end_time": "2022-07-14T18:20:17.447676Z",
     "start_time": "2022-07-14T18:20:17.324433Z"
    }
   },
   "outputs": [],
   "source": [
    "num_attribures = df5.select_dtypes(include=['int64','int32','float64'])\n",
    "cat_attribures = df5.select_dtypes(exclude=['int64','int32','float64','datetime64[ns]'])"
   ]
  },
  {
   "cell_type": "markdown",
   "metadata": {},
   "source": [
    "# Normalization"
   ]
  },
  {
   "cell_type": "code",
   "execution_count": 8,
   "metadata": {
    "ExecuteTime": {
     "end_time": "2022-07-14T18:20:22.430134Z",
     "start_time": "2022-07-14T18:20:17.450669Z"
    }
   },
   "outputs": [
    {
     "data": {
      "image/png": "[encoded data removed]",
      "text/plain": [
       "<Figure size 1800x864 with 20 Axes>"
      ]
     },
     "metadata": {},
     "output_type": "display_data"
    }
   ],
   "source": [
    "num_attribures.hist(bins=25);"
   ]
  },
  {
   "cell_type": "markdown",
   "metadata": {},
   "source": [
    "since we have no normally distributed variable, there os no reason to apply any normalization process to them"
   ]
  },
  {
   "cell_type": "markdown",
   "metadata": {},
   "source": [
    "# Rescaling"
   ]
  },
  {
   "cell_type": "code",
   "execution_count": 21,
   "metadata": {
    "ExecuteTime": {
     "end_time": "2022-07-14T18:36:14.629959Z",
     "start_time": "2022-07-14T18:36:14.481282Z"
    }
   },
   "outputs": [],
   "source": [
    "rs = RobustScaler()\n",
    "mms = MinMaxScaler()\n",
    "\n",
    "# robust Scale\n",
    "df5['competition_distance'] = rs.fit_transform(df5[['competition_distance']].values)\n",
    "pickle.dump(rs,open('parameter/rescaling_competition_distance.pkl','wb'))\n",
    "\n",
    "# robust Scale\n",
    "df5['competition_ time_month'] = rs.fit_transform(df5[['competition_time_month']].values)\n",
    "pickle.dump(rs,open('parameter/rescaling_competition_time_month.pkl','wb'))\n",
    "\n",
    "# min max Scale\n",
    "df5['promo_time_week'] = mms.fit_transform(df5[['promo_time_week']].values)\n",
    "pickle.dump(mms,open('parameter/rescaling_promo_time_week.pkl','wb'))\n",
    "\n",
    "# min max Scale\n",
    "df5['year'] = mms.fit_transform(df5[['year']].values)\n",
    "pickle.dump(mms,open('parameter/rescaling_year.pkl','wb'))"
   ]
  },
  {
   "cell_type": "markdown",
   "metadata": {},
   "source": [
    "# Transformation"
   ]
  },
  {
   "cell_type": "markdown",
   "metadata": {},
   "source": [
    "## encoding"
   ]
  },
  {
   "cell_type": "code",
   "execution_count": 22,
   "metadata": {
    "ExecuteTime": {
     "end_time": "2022-07-14T18:37:39.411448Z",
     "start_time": "2022-07-14T18:37:38.245804Z"
    }
   },
   "outputs": [],
   "source": [
    "# state_holiday - one hot encoding\n",
    "df5 = pd.get_dummies(df5,prefix=['state_holiday'],columns=['state_holiday'])\n",
    "\n",
    "# store_type - label encoding\n",
    "le = LabelEncoder()\n",
    "df5['store_type'] = le.fit_transform(df5['store_type'])\n",
    "pickle.dump(le,open('parameter/encoding_store_type.pkl','wb'))\n",
    "\n",
    "# assortment - ordinal encoding\n",
    "assortment_dict = {'basic':1,'extra':2,'extended':3}\n",
    "df5['assortment'] = df5['assortment'].map(assortment_dict)\n",
    "\n",
    "# season - one hot encoding\n",
    "df5 = pd.get_dummies(df5,prefix=['season'],columns=['season'])"
   ]
  },
  {
   "cell_type": "markdown",
   "metadata": {},
   "source": [
    "## Response variable transformation"
   ]
  },
  {
   "cell_type": "code",
   "execution_count": 32,
   "metadata": {
    "ExecuteTime": {
     "end_time": "2022-07-06T22:23:04.580333Z",
     "start_time": "2022-07-06T22:23:03.862501Z"
    },
    "scrolled": true
   },
   "outputs": [
    {
     "data": {
      "image/png": "[encoded data removed]",
      "text/plain": [
       "<Figure size 1800x864 with 1 Axes>"
      ]
     },
     "metadata": {},
     "output_type": "display_data"
    }
   ],
   "source": [
    "df5['sales'] = np.log(df5['sales'])\n",
    "sns.histplot(x='sales',data=df5,bins=75);"
   ]
  },
  {
   "cell_type": "markdown",
   "metadata": {},
   "source": [
    "## Nature transformation"
   ]
  },
  {
   "cell_type": "code",
   "execution_count": 33,
   "metadata": {
    "ExecuteTime": {
     "end_time": "2022-07-06T22:23:13.988788Z",
     "start_time": "2022-07-06T22:23:04.583325Z"
    }
   },
   "outputs": [],
   "source": [
    "#month\n",
    "df5['month_sin'] = df5['month'].apply(lambda x: np.sin(x*(2.* np.pi/12)))\n",
    "df5['month_cos'] = df5['month'].apply(lambda x: np.cos(x*(2.* np.pi/12)))\n",
    "\n",
    "#day\n",
    "df5['day_sin'] = df5['day'].apply(lambda x: np.sin(x*(2.* np.pi/31)))\n",
    "df5['day_cos'] = df5['day'].apply(lambda x: np.cos(x*(2.* np.pi/31)))\n",
    "\n",
    "#week of year\n",
    "df5['week_of_year_sin'] = df5['week_of_year'].apply(lambda x: np.sin(x*(2.* np.pi/52)))\n",
    "df5['week_of_year_cos'] = df5['week_of_year'].apply(lambda x: np.cos(x*(2.* np.pi/52)))\n",
    "\n",
    "# day of week\n",
    "df5['day_of_week_sin'] = df5['day_of_week'].apply(lambda x: np.sin(x*(2.* np.pi/7)))\n",
    "df5['day_of_week_cos'] = df5['day_of_week'].apply(lambda x: np.cos(x*(2.* np.pi/7)))"
   ]
  },
  {
   "cell_type": "code",
   "execution_count": 34,
   "metadata": {
    "ExecuteTime": {
     "end_time": "2022-07-06T22:23:14.051628Z",
     "start_time": "2022-07-06T22:23:13.994778Z"
    },
    "scrolled": true
   },
   "outputs": [
    {
     "data": {
      "text/html": [
       "<div>\n",
       "<style scoped>\n",
       "    .dataframe tbody tr th:only-of-type {\n",
       "        vertical-align: middle;\n",
       "    }\n",
       "\n",
       "    .dataframe tbody tr th {\n",
       "        vertical-align: top;\n",
       "    }\n",
       "\n",
       "    .dataframe thead th {\n",
       "        text-align: right;\n",
       "    }\n",
       "</style>\n",
       "<table border=\"1\" class=\"dataframe\">\n",
       "  <thead>\n",
       "    <tr style=\"text-align: right;\">\n",
       "      <th></th>\n",
       "      <th>store</th>\n",
       "      <th>day_of_week</th>\n",
       "      <th>date</th>\n",
       "      <th>sales</th>\n",
       "      <th>promo</th>\n",
       "      <th>school_holiday</th>\n",
       "      <th>store_type</th>\n",
       "      <th>assortment</th>\n",
       "      <th>competition_distance</th>\n",
       "      <th>competition_open_since_month</th>\n",
       "      <th>...</th>\n",
       "      <th>season_summer</th>\n",
       "      <th>season_winter</th>\n",
       "      <th>month_sin</th>\n",
       "      <th>month_cos</th>\n",
       "      <th>day_sin</th>\n",
       "      <th>day_cos</th>\n",
       "      <th>week_of_year_sin</th>\n",
       "      <th>week_of_year_cos</th>\n",
       "      <th>day_of_week_sin</th>\n",
       "      <th>day_of_week_cos</th>\n",
       "    </tr>\n",
       "  </thead>\n",
       "  <tbody>\n",
       "    <tr>\n",
       "      <th>0</th>\n",
       "      <td>1</td>\n",
       "      <td>5</td>\n",
       "      <td>2015-07-31</td>\n",
       "      <td>8.568456</td>\n",
       "      <td>1</td>\n",
       "      <td>1</td>\n",
       "      <td>2</td>\n",
       "      <td>1</td>\n",
       "      <td>-0.170968</td>\n",
       "      <td>9</td>\n",
       "      <td>...</td>\n",
       "      <td>1</td>\n",
       "      <td>0</td>\n",
       "      <td>-0.5</td>\n",
       "      <td>-0.866025</td>\n",
       "      <td>-2.449294e-16</td>\n",
       "      <td>1.0</td>\n",
       "      <td>-0.568065</td>\n",
       "      <td>-0.822984</td>\n",
       "      <td>-0.974928</td>\n",
       "      <td>-0.222521</td>\n",
       "    </tr>\n",
       "    <tr>\n",
       "      <th>1</th>\n",
       "      <td>2</td>\n",
       "      <td>5</td>\n",
       "      <td>2015-07-31</td>\n",
       "      <td>8.710125</td>\n",
       "      <td>1</td>\n",
       "      <td>1</td>\n",
       "      <td>0</td>\n",
       "      <td>1</td>\n",
       "      <td>-0.283871</td>\n",
       "      <td>11</td>\n",
       "      <td>...</td>\n",
       "      <td>1</td>\n",
       "      <td>0</td>\n",
       "      <td>-0.5</td>\n",
       "      <td>-0.866025</td>\n",
       "      <td>-2.449294e-16</td>\n",
       "      <td>1.0</td>\n",
       "      <td>-0.568065</td>\n",
       "      <td>-0.822984</td>\n",
       "      <td>-0.974928</td>\n",
       "      <td>-0.222521</td>\n",
       "    </tr>\n",
       "    <tr>\n",
       "      <th>2</th>\n",
       "      <td>3</td>\n",
       "      <td>5</td>\n",
       "      <td>2015-07-31</td>\n",
       "      <td>9.025696</td>\n",
       "      <td>1</td>\n",
       "      <td>1</td>\n",
       "      <td>0</td>\n",
       "      <td>1</td>\n",
       "      <td>1.903226</td>\n",
       "      <td>12</td>\n",
       "      <td>...</td>\n",
       "      <td>1</td>\n",
       "      <td>0</td>\n",
       "      <td>-0.5</td>\n",
       "      <td>-0.866025</td>\n",
       "      <td>-2.449294e-16</td>\n",
       "      <td>1.0</td>\n",
       "      <td>-0.568065</td>\n",
       "      <td>-0.822984</td>\n",
       "      <td>-0.974928</td>\n",
       "      <td>-0.222521</td>\n",
       "    </tr>\n",
       "    <tr>\n",
       "      <th>3</th>\n",
       "      <td>4</td>\n",
       "      <td>5</td>\n",
       "      <td>2015-07-31</td>\n",
       "      <td>9.546455</td>\n",
       "      <td>1</td>\n",
       "      <td>1</td>\n",
       "      <td>2</td>\n",
       "      <td>3</td>\n",
       "      <td>-0.275806</td>\n",
       "      <td>9</td>\n",
       "      <td>...</td>\n",
       "      <td>1</td>\n",
       "      <td>0</td>\n",
       "      <td>-0.5</td>\n",
       "      <td>-0.866025</td>\n",
       "      <td>-2.449294e-16</td>\n",
       "      <td>1.0</td>\n",
       "      <td>-0.568065</td>\n",
       "      <td>-0.822984</td>\n",
       "      <td>-0.974928</td>\n",
       "      <td>-0.222521</td>\n",
       "    </tr>\n",
       "    <tr>\n",
       "      <th>4</th>\n",
       "      <td>5</td>\n",
       "      <td>5</td>\n",
       "      <td>2015-07-31</td>\n",
       "      <td>8.480944</td>\n",
       "      <td>1</td>\n",
       "      <td>1</td>\n",
       "      <td>0</td>\n",
       "      <td>1</td>\n",
       "      <td>4.448387</td>\n",
       "      <td>4</td>\n",
       "      <td>...</td>\n",
       "      <td>1</td>\n",
       "      <td>0</td>\n",
       "      <td>-0.5</td>\n",
       "      <td>-0.866025</td>\n",
       "      <td>-2.449294e-16</td>\n",
       "      <td>1.0</td>\n",
       "      <td>-0.568065</td>\n",
       "      <td>-0.822984</td>\n",
       "      <td>-0.974928</td>\n",
       "      <td>-0.222521</td>\n",
       "    </tr>\n",
       "  </tbody>\n",
       "</table>\n",
       "<p>5 rows × 41 columns</p>\n",
       "</div>"
      ],
      "text/plain": [
       "   store  day_of_week       date     sales  promo  school_holiday  store_type  \\\n",
       "0      1            5 2015-07-31  8.568456      1               1           2   \n",
       "1      2            5 2015-07-31  8.710125      1               1           0   \n",
       "2      3            5 2015-07-31  9.025696      1               1           0   \n",
       "3      4            5 2015-07-31  9.546455      1               1           2   \n",
       "4      5            5 2015-07-31  8.480944      1               1           0   \n",
       "\n",
       "   assortment  competition_distance  competition_open_since_month  ...  \\\n",
       "0           1             -0.170968                             9  ...   \n",
       "1           1             -0.283871                            11  ...   \n",
       "2           1              1.903226                            12  ...   \n",
       "3           3             -0.275806                             9  ...   \n",
       "4           1              4.448387                             4  ...   \n",
       "\n",
       "   season_summer  season_winter  month_sin  month_cos       day_sin  day_cos  \\\n",
       "0              1              0       -0.5  -0.866025 -2.449294e-16      1.0   \n",
       "1              1              0       -0.5  -0.866025 -2.449294e-16      1.0   \n",
       "2              1              0       -0.5  -0.866025 -2.449294e-16      1.0   \n",
       "3              1              0       -0.5  -0.866025 -2.449294e-16      1.0   \n",
       "4              1              0       -0.5  -0.866025 -2.449294e-16      1.0   \n",
       "\n",
       "   week_of_year_sin  week_of_year_cos  day_of_week_sin day_of_week_cos  \n",
       "0         -0.568065         -0.822984        -0.974928       -0.222521  \n",
       "1         -0.568065         -0.822984        -0.974928       -0.222521  \n",
       "2         -0.568065         -0.822984        -0.974928       -0.222521  \n",
       "3         -0.568065         -0.822984        -0.974928       -0.222521  \n",
       "4         -0.568065         -0.822984        -0.974928       -0.222521  \n",
       "\n",
       "[5 rows x 41 columns]"
      ]
     },
     "execution_count": 34,
     "metadata": {},
     "output_type": "execute_result"
    }
   ],
   "source": [
    "df5.head()"
   ]
  },
  {
   "cell_type": "code",
   "execution_count": 38,
   "metadata": {
    "ExecuteTime": {
     "end_time": "2022-07-07T19:34:07.827156Z",
     "start_time": "2022-07-07T19:34:07.552701Z"
    }
   },
   "outputs": [
    {
     "data": {
      "text/plain": [
       "store                                    int64\n",
       "day_of_week                              int64\n",
       "date                            datetime64[ns]\n",
       "sales                                  float64\n",
       "promo                                    int64\n",
       "school_holiday                           int64\n",
       "store_type                               int32\n",
       "assortment                               int64\n",
       "competition_distance                   float64\n",
       "competition_open_since_month             int64\n",
       "competition_open_since_year              int64\n",
       "promo2                                   int64\n",
       "promo2_since_week                        int64\n",
       "promo2_since_year                        int64\n",
       "is_promo                                 int64\n",
       "year                                   float64\n",
       "month                                    int64\n",
       "day                                      int64\n",
       "week_of_year                             int64\n",
       "year_week                               object\n",
       "competition_since               datetime64[ns]\n",
       "competition_time_month                   int64\n",
       "promo_since                     datetime64[ns]\n",
       "promo_time_week                        float64\n",
       "competition_ time_month                float64\n",
       "state_holiday_christmas                  uint8\n",
       "state_holiday_easter_holiday             uint8\n",
       "state_holiday_public_holiday             uint8\n",
       "state_holiday_regular_day                uint8\n",
       "season_fall                              uint8\n",
       "season_spring                            uint8\n",
       "season_summer                            uint8\n",
       "season_winter                            uint8\n",
       "month_sin                              float64\n",
       "month_cos                              float64\n",
       "day_sin                                float64\n",
       "day_cos                                float64\n",
       "week_of_year_sin                       float64\n",
       "week_of_year_cos                       float64\n",
       "day_of_week_sin                        float64\n",
       "day_of_week_cos                        float64\n",
       "dtype: object"
      ]
     },
     "execution_count": 38,
     "metadata": {},
     "output_type": "execute_result"
    }
   ],
   "source": [
    "df5.dtypes"
   ]
  },
  {
   "cell_type": "code",
   "execution_count": 35,
   "metadata": {
    "ExecuteTime": {
     "end_time": "2022-07-06T22:25:30.628585Z",
     "start_time": "2022-07-06T22:24:44.272344Z"
    }
   },
   "outputs": [],
   "source": [
    "#df5.to_csv('../data/df5.csv',index=False)"
   ]
  }
 ],
 "metadata": {
  "kernelspec": {
   "display_name": "Python 3",
   "language": "python",
   "name": "python3"
  },
  "language_info": {
   "codemirror_mode": {
    "name": "ipython",
    "version": 3
   },
   "file_extension": ".py",
   "mimetype": "text/x-python",
   "name": "python",
   "nbconvert_exporter": "python",
   "pygments_lexer": "ipython3",
   "version": "3.8.5"
  }
 },
 "nbformat": 4,
 "nbformat_minor": 4
}
