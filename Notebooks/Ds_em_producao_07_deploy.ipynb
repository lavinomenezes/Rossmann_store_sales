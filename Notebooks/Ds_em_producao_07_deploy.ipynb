{
 "cells": [
  {
   "cell_type": "markdown",
   "metadata": {},
   "source": [
    "# imports"
   ]
  },
  {
   "cell_type": "code",
   "execution_count": 8,
   "metadata": {
    "ExecuteTime": {
     "end_time": "2022-10-19T15:07:24.920021Z",
     "start_time": "2022-10-19T15:07:24.758010Z"
    }
   },
   "outputs": [],
   "source": [
    "import pandas as pd\n",
    "import numpy as np\n",
    "import math\n",
    "import datetime\n",
    "import seaborn as sns\n",
    "import xgboost as xgb\n",
    "import random\n",
    "import warnings\n",
    "import pickle\n",
    "from IPython.core.display import HTML\n",
    "from IPython.display import Image\n",
    "from sklearn.ensemble import RandomForestRegressor\n",
    "from sklearn.linear_model import LinearRegression, Lasso\n",
    "from sklearn.metrics import mean_absolute_error, mean_absolute_percentage_error, mean_squared_error"
   ]
  },
  {
   "cell_type": "markdown",
   "metadata": {},
   "source": [
    "## helper functions"
   ]
  },
  {
   "cell_type": "code",
   "execution_count": 9,
   "metadata": {
    "ExecuteTime": {
     "end_time": "2022-10-19T15:07:25.041943Z",
     "start_time": "2022-10-19T15:07:24.934030Z"
    }
   },
   "outputs": [],
   "source": [
    "# def jupyter_settings():\n",
    "#     %matplotlib inline\n",
    "#     %pylab inline\n",
    "#     plt.style.use( 'bmh' )\n",
    "#     plt.rcParams['figure.figsize'] = [25, 12]\n",
    "#     plt.rcParams['font.size'] = 24\n",
    "#     display( HTML( '<style>.container { width:100% !important; }</style>') )\n",
    "#     sns.set()\n",
    "# jupyter_settings()"
   ]
  },
  {
   "cell_type": "markdown",
   "metadata": {},
   "source": [
    "# load data"
   ]
  },
  {
   "cell_type": "code",
   "execution_count": 10,
   "metadata": {
    "ExecuteTime": {
     "end_time": "2022-10-19T15:07:25.373058Z",
     "start_time": "2022-10-19T15:07:25.085826Z"
    }
   },
   "outputs": [],
   "source": [
    "data_store = pd.read_csv('../data/rossmann-store-sales/store.csv',low_memory=False)\n",
    "data_test = pd.read_csv('../data/rossmann-store-sales/test.csv',low_memory=False)"
   ]
  },
  {
   "cell_type": "code",
   "execution_count": 11,
   "metadata": {
    "ExecuteTime": {
     "end_time": "2022-10-19T15:07:27.903910Z",
     "start_time": "2022-10-19T15:07:27.840082Z"
    }
   },
   "outputs": [],
   "source": [
    "data_test['Date'] = pd.to_datetime(data_test['Date'])"
   ]
  },
  {
   "cell_type": "markdown",
   "metadata": {},
   "source": [
    "# Rossmann Class"
   ]
  },
  {
   "cell_type": "code",
   "execution_count": 6,
   "metadata": {
    "ExecuteTime": {
     "end_time": "2022-10-19T14:11:31.188941Z",
     "start_time": "2022-10-19T14:11:31.143059Z"
    }
   },
   "outputs": [],
   "source": [
    "import inflection\n",
    "import pickle\n",
    "import pandas as pd\n",
    "import numpy as np\n",
    "import math\n",
    "import datetime\n",
    "\n",
    "class Rossmann(object):\n",
    "    \n",
    "    def __init__(self):\n",
    "        self.home_path = 'Users/Lavin/Documents/Comunidade DS/Ds_em_producao'\n",
    "        self.competition_distance_scaler    = pickle.load(open(self.home_path + 'parameter/rescaling_competition_distance.pkl','rb'))\n",
    "        self.competition_time_month_scaler  = pickle.load(open(self.home_path + 'parameter/rescaling_competition_time_month.pkl','rb'))\n",
    "        self.promo_time_week_scaler         = pickle.load(open(self.home_path + 'parameter/rescaling_promo_time_week.pkl','rb'))\n",
    "        self.year_scaler                    = pickle.load(open(self.home_path + 'parameter/rescaling_year.pkl','rb'))\n",
    "        self.store_type_encoder             = pickle.load(open(self.home_path + 'parameter/encoding_store_type.pkl','rb'))\n",
    "\n",
    "       \n",
    "        \n",
    "        state=1\n",
    "    def data_cleaning(self,df1):\n",
    "    \n",
    "\n",
    "        \n",
    "        old_cols = ['Store', 'DayOfWeek', 'Date', 'Open', 'Promo',\n",
    "                   'StateHoliday', 'SchoolHoliday', 'StoreType', 'Assortment',\n",
    "                   'CompetitionDistance', 'CompetitionOpenSinceMonth',\n",
    "                   'CompetitionOpenSinceYear', 'Promo2', 'Promo2SinceWeek',\n",
    "                   'Promo2SinceYear', 'PromoInterval']\n",
    "        snakecase = lambda x: inflection.underscore(x)\n",
    "        new_cols = list(map(snakecase,old_cols))\n",
    "        df1.columns = new_cols\n",
    "        \n",
    "        df1['date'] = pd.to_datetime(df1['date'])\n",
    "        \n",
    "        dist = lambda x: 200000.0 if math.isnan(x) else x\n",
    "        df1['competition_distance'] = df1['competition_distance'].apply(dist)\n",
    "\n",
    "        # competition_open_since_month   \n",
    "        comp_op_sin_mon = lambda x: x['date'].month if math.isnan(x['competition_open_since_month']) else x['competition_open_since_month']\n",
    "        df1['competition_open_since_month'] = df1.apply(comp_op_sin_mon,axis=1)\n",
    "        # competition_open_since_year    \n",
    "        comp_op_sin_year = lambda x: x['date'].year if math.isnan(x['competition_open_since_year']) else x['competition_open_since_year']\n",
    "        df1['competition_open_since_year'] = df1.apply(comp_op_sin_year,axis=1)\n",
    "\n",
    "        # promo2                         \n",
    "        # promo2_since_week\n",
    "        prom_week = lambda x: x['date'].week if math.isnan(x['promo2_since_week']) else x['promo2_since_week']\n",
    "        df1['promo2_since_week'] = df1.apply(prom_week,axis=1)\n",
    "\n",
    "        # promo2_since_year       \n",
    "        prom_year = lambda x: x['date'].year if math.isnan(x['promo2_since_year']) else x['promo2_since_year']\n",
    "        df1['promo2_since_year'] = df1.apply(prom_year,axis=1)\n",
    "\n",
    "        # promo_interval\n",
    "        month_map = {1: 'Jan', 2:'Feb', 3:'Mar', 4:'Apr', 5:'May', 6:'Jun', 7:'Jul', 8:'Aug', 9:'Sept', 10:'Oct', 11:'Nov',12:'Dec'}\n",
    "        df1['promo_interval'].fillna(0,inplace=True)\n",
    "        df1['month_map'] = df1['date'].dt.month.replace(month_map)\n",
    "        prom_int = lambda x: 0 if x['promo_interval'] == 0 else 1 if x['month_map'] in x['promo_interval'].split(',') else 0\n",
    "        df1['is_promo'] = df1[['promo_interval','month_map']].apply(prom_int,axis=1)\n",
    "        \n",
    "        # change types\n",
    "        df1['competition_open_since_month'] = df1['competition_open_since_month'].astype(int)\n",
    "        df1['competition_open_since_year'] = df1['competition_open_since_year'].astype(int)\n",
    "        df1['promo2_since_week'] = df1['promo2_since_week'].astype(int)\n",
    "        df1['promo2_since_year'] = df1['promo2_since_year'].astype(int)\n",
    "        \n",
    "        return df1\n",
    "    \n",
    "    def feature_engineering(self,df2):\n",
    "        #year\n",
    "        df2['year'] = df2['date'].dt.year\n",
    "        #month\n",
    "        df2['month'] = df2['date'].dt.month\n",
    "        #day\n",
    "        df2['day'] = df2['date'].dt.day\n",
    "        # week of year\n",
    "        df2['week_of_year'] = df2['date'].dt.weekofyear\n",
    "        # year week\n",
    "        df2['year_week'] = df2['date'].dt.strftime('%Y-%m')\n",
    "\n",
    "        # competiiton since\n",
    "        comp_sinc = lambda x: datetime.datetime(year=x['competition_open_since_year'],month = x['competition_open_since_month'],day=1)\n",
    "        df2['competition_since'] = df2.apply(comp_sinc,axis=1)\n",
    "        df2['competition_time_month'] = ((df2['date'] - df2['competition_since'])/30).apply(lambda x: x.days).astype(int)\n",
    "  \n",
    "        # promo since\n",
    "        df2['promo_since'] = df2['promo2_since_year'].astype(str)+ '-' + df2['promo2_since_week'].astype(str)\n",
    "        df2['promo_since'] = df2['promo_since'].apply(lambda x: datetime.datetime.strptime(x + '-1', '%Y-%W-%w') - datetime.timedelta(days=7))\n",
    "        df2['promo_time_week'] = ((df2['date'] - df2['promo_since'])/7).apply(lambda x: x.days).astype(int)\n",
    "\n",
    "        # assortment\n",
    "        assrt = {'a':'basic','b':'extra','c':'extended'}\n",
    "        df2['assortment']= df2['assortment'].replace(assrt)\n",
    "        \n",
    "        # state_holiday\n",
    "        sta_hol = { 'a':'public_holiday', 'b':'easter_holiday', 'c': 'christmas', '0':'regular_day'}\n",
    "        df2['state_holiday'] = df2['state_holiday'].replace(sta_hol)\n",
    "        \n",
    "        # season\n",
    "        winter_month = [12,1,2]\n",
    "        spring_month = [3,4,5]\n",
    "        summer_month = [6,7,8]\n",
    "        fall_month = [9,10,11]\n",
    "        df2['season'] = df2['month'].apply(lambda x: 'winter' if  x in winter_month else \n",
    "                                          ('spring' if x in spring_month else\n",
    "                                           ('summer' if x in summer_month else\n",
    "                                            ('fall' if x in fall_month else 'NA'))))\n",
    "        # filtering rows\n",
    "        \n",
    "        #filtering colums\n",
    "        cols_drop = ['open','promo_interval', 'month_map']\n",
    "        df2.drop(columns=cols_drop,inplace=True)\n",
    "        \n",
    "        return df2\n",
    "    \n",
    "    def data_preparation(self,df5):\n",
    "        \n",
    "        #rescaling ==========================================================\n",
    "        \n",
    "        # competiton distance\n",
    "        df5['competition_distance'] = self.competition_distance_scaler.transform(df5[['competition_distance']].values)\n",
    "        \n",
    "        # competiton time month\n",
    "        df5['competition_time_month'] = self.competition_time_month_scaler.transform(df5[['competition_time_month']].values)\n",
    "        \n",
    "        df5['promo_time_week'] = self.promo_time_week_scaler.transform(df5[['promo_time_week']].values)\n",
    "        \n",
    "        df5['year'] = self.year_scaler.transform(df5[['year']].values)\n",
    "        \n",
    "        \n",
    "        #encodig =============================================================\n",
    "        \n",
    "        # state_holiday - one hot encoding\n",
    "        df5 = pd.get_dummies(df5,prefix=['state_holiday'],columns=['state_holiday'])\n",
    "        # store_type - label encoding\n",
    "        df5['store_type'] = self.store_type_encoder.transform(df5['store_type'])\n",
    "        \n",
    "        # assortment - ordinal encoding\n",
    "        assortment_dict = {'basic':1,'extra':2,'extended':3}\n",
    "        df5['assortment'] = df5['assortment'].map(assortment_dict)\n",
    "        # season - one hot encoding\n",
    "        df5 = pd.get_dummies(df5,prefix=['season'],columns=['season'])\n",
    "        \n",
    "          \n",
    "        # nature transform ==================================================\n",
    "        \n",
    "        #month\n",
    "        df5['month_sin'] = df5['month'].apply(lambda x: np.sin(x*(2.* np.pi/12)))\n",
    "        df5['month_cos'] = df5['month'].apply(lambda x: np.cos(x*(2.* np.pi/12)))\n",
    "\n",
    "        #day\n",
    "        df5['day_sin'] = df5['day'].apply(lambda x: np.sin(x*(2.* np.pi/31)))\n",
    "        df5['day_cos'] = df5['day'].apply(lambda x: np.cos(x*(2.* np.pi/31)))\n",
    "\n",
    "        #week of year\n",
    "        df5['week_of_year_sin'] = df5['week_of_year'].apply(lambda x: np.sin(x*(2.* np.pi/52)))\n",
    "        df5['week_of_year_cos'] = df5['week_of_year'].apply(lambda x: np.cos(x*(2.* np.pi/52)))\n",
    "\n",
    "        # day of week\n",
    "        df5['day_of_week_sin'] = df5['day_of_week'].apply(lambda x: np.sin(x*(2.* np.pi/7)))\n",
    "        df5['day_of_week_cos'] = df5['day_of_week'].apply(lambda x: np.cos(x*(2.* np.pi/7)))\n",
    "        \n",
    "        cols_selected = ['store', 'promo', 'store_type', 'assortment', 'competition_distance',\n",
    "                       'competition_open_since_month', 'competition_open_since_year', 'promo2',\n",
    "                       'promo2_since_week', 'promo2_since_year', 'competition_time_month',\n",
    "                       'promo_time_week', 'competition_ time_month', 'month_sin','month_cos', 'day_sin',\n",
    "                       'day_cos','week_of_year_sin', 'week_of_year_cos', 'day_of_week_sin', 'day_of_week_cos']\n",
    "        return df5[cols_selected]\n",
    "    \n",
    "    def get_prediction(self,model,original_data,test_data):\n",
    "        #prediction\n",
    "        \n",
    "        pred = model.predict(test_data)\n",
    "        \n",
    "        #join pred into the original data\n",
    "        original_data['prediction'] = np.expm1(pred)\n",
    "        \n",
    "        return original_data.to_json(orient='records',date_format='iso')"
   ]
  },
  {
   "cell_type": "markdown",
   "metadata": {},
   "source": [
    "# API Handler"
   ]
  },
  {
   "cell_type": "code",
   "execution_count": 7,
   "metadata": {
    "ExecuteTime": {
     "end_time": "2022-10-19T14:11:32.340231Z",
     "start_time": "2022-10-19T14:11:31.190932Z"
    }
   },
   "outputs": [
    {
     "ename": "UnicodeDecodeError",
     "evalue": "'charmap' codec can't decode byte 0x81 in position 47: character maps to <undefined>",
     "output_type": "error",
     "traceback": [
      "\u001b[1;31m---------------------------------------------------------------------------\u001b[0m",
      "\u001b[1;31mUnicodeDecodeError\u001b[0m                        Traceback (most recent call last)",
      "\u001b[1;32m<ipython-input-7-e5084598cee6>\u001b[0m in \u001b[0;36m<module>\u001b[1;34m\u001b[0m\n\u001b[0;32m      4\u001b[0m \u001b[1;33m\u001b[0m\u001b[0m\n\u001b[0;32m      5\u001b[0m \u001b[1;31m#loading model\u001b[0m\u001b[1;33m\u001b[0m\u001b[1;33m\u001b[0m\u001b[1;33m\u001b[0m\u001b[0m\n\u001b[1;32m----> 6\u001b[1;33m \u001b[0mmodel\u001b[0m \u001b[1;33m=\u001b[0m \u001b[0mpickle\u001b[0m\u001b[1;33m.\u001b[0m\u001b[0mload\u001b[0m\u001b[1;33m(\u001b[0m\u001b[0mopen\u001b[0m\u001b[1;33m(\u001b[0m\u001b[1;34mr'C:/Users/Lavin/Documents/Comunidade DS/Ds_em_producao/model/model_rossman_xgb.pkl'\u001b[0m\u001b[1;33m)\u001b[0m\u001b[1;33m)\u001b[0m\u001b[1;33m\u001b[0m\u001b[1;33m\u001b[0m\u001b[0m\n\u001b[0m\u001b[0;32m      7\u001b[0m \u001b[1;33m\u001b[0m\u001b[0m\n\u001b[0;32m      8\u001b[0m \u001b[0mapp\u001b[0m \u001b[1;33m=\u001b[0m \u001b[0mFlask\u001b[0m\u001b[1;33m(\u001b[0m\u001b[0m__name__\u001b[0m\u001b[1;33m)\u001b[0m\u001b[1;33m\u001b[0m\u001b[1;33m\u001b[0m\u001b[0m\n",
      "\u001b[1;32m~\\anaconda3\\lib\\encodings\\cp1252.py\u001b[0m in \u001b[0;36mdecode\u001b[1;34m(self, input, final)\u001b[0m\n\u001b[0;32m     21\u001b[0m \u001b[1;32mclass\u001b[0m \u001b[0mIncrementalDecoder\u001b[0m\u001b[1;33m(\u001b[0m\u001b[0mcodecs\u001b[0m\u001b[1;33m.\u001b[0m\u001b[0mIncrementalDecoder\u001b[0m\u001b[1;33m)\u001b[0m\u001b[1;33m:\u001b[0m\u001b[1;33m\u001b[0m\u001b[1;33m\u001b[0m\u001b[0m\n\u001b[0;32m     22\u001b[0m     \u001b[1;32mdef\u001b[0m \u001b[0mdecode\u001b[0m\u001b[1;33m(\u001b[0m\u001b[0mself\u001b[0m\u001b[1;33m,\u001b[0m \u001b[0minput\u001b[0m\u001b[1;33m,\u001b[0m \u001b[0mfinal\u001b[0m\u001b[1;33m=\u001b[0m\u001b[1;32mFalse\u001b[0m\u001b[1;33m)\u001b[0m\u001b[1;33m:\u001b[0m\u001b[1;33m\u001b[0m\u001b[1;33m\u001b[0m\u001b[0m\n\u001b[1;32m---> 23\u001b[1;33m         \u001b[1;32mreturn\u001b[0m \u001b[0mcodecs\u001b[0m\u001b[1;33m.\u001b[0m\u001b[0mcharmap_decode\u001b[0m\u001b[1;33m(\u001b[0m\u001b[0minput\u001b[0m\u001b[1;33m,\u001b[0m\u001b[0mself\u001b[0m\u001b[1;33m.\u001b[0m\u001b[0merrors\u001b[0m\u001b[1;33m,\u001b[0m\u001b[0mdecoding_table\u001b[0m\u001b[1;33m)\u001b[0m\u001b[1;33m[\u001b[0m\u001b[1;36m0\u001b[0m\u001b[1;33m]\u001b[0m\u001b[1;33m\u001b[0m\u001b[1;33m\u001b[0m\u001b[0m\n\u001b[0m\u001b[0;32m     24\u001b[0m \u001b[1;33m\u001b[0m\u001b[0m\n\u001b[0;32m     25\u001b[0m \u001b[1;32mclass\u001b[0m \u001b[0mStreamWriter\u001b[0m\u001b[1;33m(\u001b[0m\u001b[0mCodec\u001b[0m\u001b[1;33m,\u001b[0m\u001b[0mcodecs\u001b[0m\u001b[1;33m.\u001b[0m\u001b[0mStreamWriter\u001b[0m\u001b[1;33m)\u001b[0m\u001b[1;33m:\u001b[0m\u001b[1;33m\u001b[0m\u001b[1;33m\u001b[0m\u001b[0m\n",
      "\u001b[1;31mUnicodeDecodeError\u001b[0m: 'charmap' codec can't decode byte 0x81 in position 47: character maps to <undefined>"
     ]
    }
   ],
   "source": [
    "import pandas as pd\n",
    "from flask import Flask, request, Response\n",
    "#from rossmann.Rossmann import Rossmann\n",
    "\n",
    "#loading model\n",
    "model = pickle.load(open(r'C:/Users/Lavin/Documents/Comunidade DS/Ds_em_producao/model/model_rossman_xgb.pkl'))\n",
    "\n",
    "app = Flask(__name__)\n",
    "\n",
    "@app.route('/rossmann/predict',methods=['POST'])\n",
    "def rossmann_predict():\n",
    "    test_json = request.get_jason()\n",
    "    \n",
    "    if test_json: #there is data\n",
    "        \n",
    "        if isinstance(test_json,dict): #UNique example\n",
    "            test_raw = pd.DataFrame(test_json,index=[0])\n",
    "        else: # Multiple Examples\n",
    "            test_raw = pd.DataFrame(test_json,columns=test_json[0].keys())\n",
    "        \n",
    "        # Instantiate Rossman class\n",
    "        pipeline = Rossmann()\n",
    "        \n",
    "        #data cleaning\n",
    "        df1 = pipeline.data_cleaning(test_raw)\n",
    "        # feature engeneering\n",
    "        df2 = pipeline.feature_engineering(df1)\n",
    "        # data preparation\n",
    "        df3 = pipeline.data_preparation(df2)\n",
    "        # prediction\n",
    "        df_response = pipeline.get_prediction(model,test_raw,df3)\n",
    "        \n",
    "        return df_response\n",
    "    \n",
    "    else:\n",
    "        return Response('{}',status=200,mimetype='application/json')\n",
    "\n",
    "if __name__ == '__main__':\n",
    "    app.run('0.0.0.0')"
   ]
  },
  {
   "cell_type": "markdown",
   "metadata": {},
   "source": [
    "# API test"
   ]
  },
  {
   "cell_type": "code",
   "execution_count": 12,
   "metadata": {
    "ExecuteTime": {
     "end_time": "2022-10-19T15:07:40.520118Z",
     "start_time": "2022-10-19T15:07:40.116747Z"
    }
   },
   "outputs": [],
   "source": [
    "import requests\n",
    "import json"
   ]
  },
  {
   "cell_type": "code",
   "execution_count": 13,
   "metadata": {
    "ExecuteTime": {
     "end_time": "2022-10-19T15:07:42.440830Z",
     "start_time": "2022-10-19T15:07:42.261915Z"
    }
   },
   "outputs": [],
   "source": [
    "df_test = pd.merge(data_test,data_store,how='left',on='Store')\n",
    "\n",
    "#choose store for prediction\n",
    "df_test = df_test[df_test['Store']==22]\n",
    "\n",
    "#remove closed days\n",
    "df_test = df_test[df_test['Open'] != 0]\n",
    "df_test = df_test[~df_test['Open'].isnull()]\n",
    "df_test.drop('Id',axis=1,inplace=True)\n",
    "df_test['Date'] = df_test['Date'].astype(str)"
   ]
  },
  {
   "cell_type": "code",
   "execution_count": 14,
   "metadata": {
    "ExecuteTime": {
     "end_time": "2022-10-19T15:07:44.464862Z",
     "start_time": "2022-10-19T15:07:44.436940Z"
    }
   },
   "outputs": [],
   "source": [
    "# convert dataframe to json\n",
    "data = df_test.to_dict(orient='records')\n",
    "data = json.dumps(data)"
   ]
  },
  {
   "cell_type": "code",
   "execution_count": 15,
   "metadata": {
    "ExecuteTime": {
     "end_time": "2022-10-19T15:08:59.333317Z",
     "start_time": "2022-10-19T15:08:59.073275Z"
    }
   },
   "outputs": [
    {
     "name": "stdout",
     "output_type": "stream",
     "text": [
      "Status code 200\n"
     ]
    }
   ],
   "source": [
    "# Api call\n",
    "\n",
    "url = 'http://192.168.0.5:5000/rossmann/predict'\n",
    "#url = 'https://rossmann-predict-lav-test.herokuapp.com/rossmann/predict'\n",
    "header = {'Content-type':'application/json'}\n",
    "data = data\n",
    "\n",
    "r = requests.post(url,data,headers=header)\n",
    "print('Status code {}'.format(r.status_code))"
   ]
  },
  {
   "cell_type": "code",
   "execution_count": 16,
   "metadata": {
    "ExecuteTime": {
     "end_time": "2022-10-19T15:09:08.620317Z",
     "start_time": "2022-10-19T15:09:08.599373Z"
    }
   },
   "outputs": [],
   "source": [
    "d1 = pd.DataFrame(r.json(),columns=r.json()[0].keys())\n",
    "#d1 = d1[['store','prediction']].groupby('store').sum().reset_index()"
   ]
  },
  {
   "cell_type": "code",
   "execution_count": 17,
   "metadata": {
    "ExecuteTime": {
     "end_time": "2022-10-19T15:09:11.975341Z",
     "start_time": "2022-10-19T15:09:10.917494Z"
    }
   },
   "outputs": [
    {
     "data": {
      "text/plain": [
       "<AxesSubplot:xlabel='week_of_year', ylabel='prediction'>"
      ]
     },
     "execution_count": 17,
     "metadata": {},
     "output_type": "execute_result"
    },
    {
     "data": {
      "image/png": "[encoded data removed]",
      "text/plain": [
       "<Figure size 432x288 with 1 Axes>"
      ]
     },
     "metadata": {
      "needs_background": "light"
     },
     "output_type": "display_data"
    }
   ],
   "source": [
    "sns.lineplot(x='week_of_year',y='prediction',data=d1)"
   ]
  },
  {
   "cell_type": "code",
   "execution_count": 18,
   "metadata": {
    "ExecuteTime": {
     "end_time": "2022-10-19T15:09:14.483447Z",
     "start_time": "2022-10-19T15:09:14.474472Z"
    },
    "scrolled": true
   },
   "outputs": [
    {
     "name": "stdout",
     "output_type": "stream",
     "text": [
      "Store number 22 will sell R$ 5,128.81 in the next 6 weeks\n"
     ]
    }
   ],
   "source": [
    "print(\"Store number {} will sell R$ {:,.2f} in the next 6 weeks\".format(d1.loc[0,'store'],d1.loc[0,'prediction']))"
   ]
  }
 ],
 "metadata": {
  "kernelspec": {
   "display_name": "Python 3",
   "language": "python",
   "name": "python3"
  },
  "language_info": {
   "codemirror_mode": {
    "name": "ipython",
    "version": 3
   },
   "file_extension": ".py",
   "mimetype": "text/x-python",
   "name": "python",
   "nbconvert_exporter": "python",
   "pygments_lexer": "ipython3",
   "version": "3.8.5"
  }
 },
 "nbformat": 4,
 "nbformat_minor": 4
}
